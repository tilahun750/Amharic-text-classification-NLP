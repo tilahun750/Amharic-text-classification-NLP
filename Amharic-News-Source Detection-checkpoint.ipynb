{
 "cells": [
  {
   "cell_type": "code",
   "execution_count": 12,
   "metadata": {},
   "outputs": [],
   "source": [
    "%matplotlib inline\n",
    "\n",
    "import matplotlib\n",
    "import pandas as pd\n",
    "import numpy as np\n",
    "from sklearn.utils import shuffle\n",
    "import re\n",
    "from sklearn.metrics import accuracy_score, classification_report\n",
    "from sklearn.feature_extraction.text import TfidfTransformer\n",
    "#provides an input for the pseudo-random number\n",
    "np.random.seed(42) \n",
    "import warnings\n",
    "warnings.filterwarnings(\"ignore\")"
   ]
  },
  {
   "cell_type": "code",
   "execution_count": 2,
   "metadata": {},
   "outputs": [
    {
     "data": {
      "text/html": [
       "<div>\n",
       "<style scoped>\n",
       "    .dataframe tbody tr th:only-of-type {\n",
       "        vertical-align: middle;\n",
       "    }\n",
       "\n",
       "    .dataframe tbody tr th {\n",
       "        vertical-align: top;\n",
       "    }\n",
       "\n",
       "    .dataframe thead th {\n",
       "        text-align: right;\n",
       "    }\n",
       "</style>\n",
       "<table border=\"1\" class=\"dataframe\">\n",
       "  <thead>\n",
       "    <tr style=\"text-align: right;\">\n",
       "      <th></th>\n",
       "      <th>Unnamed: 0</th>\n",
       "      <th>headline</th>\n",
       "      <th>category</th>\n",
       "      <th>date</th>\n",
       "      <th>views</th>\n",
       "      <th>article</th>\n",
       "      <th>link</th>\n",
       "      <th>Source</th>\n",
       "    </tr>\n",
       "  </thead>\n",
       "  <tbody>\n",
       "    <tr>\n",
       "      <th>15908</th>\n",
       "      <td>15908</td>\n",
       "      <td>የቅዱስ ጴጥሮስ ስፔሻላይዝድ ሆስፒታል የዲጂታል ጤና ፈጠራ መማሪያና መረጃ...</td>\n",
       "      <td>ሀገር አቀፍ ዜና</td>\n",
       "      <td>06/08/2020</td>\n",
       "      <td>241.0</td>\n",
       "      <td>አዲስ አበባ፣ ሐምሌ 30፣ 2012 (ኤፍ.ቢ.ሲ) የቅዱስ ጴጥሮስ ስፔሻላይ...</td>\n",
       "      <td>https://www.fanabc.com/%e1%8b%a8%e1%89%85%e1%8...</td>\n",
       "      <td>FBC</td>\n",
       "    </tr>\n",
       "    <tr>\n",
       "      <th>19608</th>\n",
       "      <td>19608</td>\n",
       "      <td>ሩሲያ ከድምፅ 27 እጥፍ የሚፈጥነውን ሀይፐርሶኒክ ሚሳኤል ወደ ስራ አስገባች</td>\n",
       "      <td>ዓለም አቀፍ ዜና</td>\n",
       "      <td>28/12/2019</td>\n",
       "      <td>4467.0</td>\n",
       "      <td>አዲስ አበባ ፣ ታህሳስ 18 ፣ 2012 (ኤፍ ቢ ሲ) ሩሲያ  ከድምፅ 27...</td>\n",
       "      <td>https://www.fanabc.com/%e1%88%a9%e1%88%b2%e1%8...</td>\n",
       "      <td>FBC</td>\n",
       "    </tr>\n",
       "    <tr>\n",
       "      <th>49342</th>\n",
       "      <td>49342</td>\n",
       "      <td>የሶማሌ ክልል ህዝብ የሀገሪቱን አንድነት ለማስጠበቅ ከፍተኛ ዋጋ ከፍሏል ...</td>\n",
       "      <td>ፖለቲካ</td>\n",
       "      <td>04/04/2019</td>\n",
       "      <td>NaN</td>\n",
       "      <td>የሶማሌ ክልል ህዝብ ኢትዮጵያ በገጠማት ችግር ብቻ ሳይሆን የሀገሪቱን አን...</td>\n",
       "      <td>https://waltainfo.com/am/31062/</td>\n",
       "      <td>Walta</td>\n",
       "    </tr>\n",
       "  </tbody>\n",
       "</table>\n",
       "</div>"
      ],
      "text/plain": [
       "       Unnamed: 0                                           headline  \\\n",
       "15908       15908  የቅዱስ ጴጥሮስ ስፔሻላይዝድ ሆስፒታል የዲጂታል ጤና ፈጠራ መማሪያና መረጃ...   \n",
       "19608       19608   ሩሲያ ከድምፅ 27 እጥፍ የሚፈጥነውን ሀይፐርሶኒክ ሚሳኤል ወደ ስራ አስገባች   \n",
       "49342       49342  የሶማሌ ክልል ህዝብ የሀገሪቱን አንድነት ለማስጠበቅ ከፍተኛ ዋጋ ከፍሏል ...   \n",
       "\n",
       "         category        date   views  \\\n",
       "15908  ሀገር አቀፍ ዜና  06/08/2020   241.0   \n",
       "19608  ዓለም አቀፍ ዜና  28/12/2019  4467.0   \n",
       "49342        ፖለቲካ  04/04/2019     NaN   \n",
       "\n",
       "                                                 article  \\\n",
       "15908  አዲስ አበባ፣ ሐምሌ 30፣ 2012 (ኤፍ.ቢ.ሲ) የቅዱስ ጴጥሮስ ስፔሻላይ...   \n",
       "19608  አዲስ አበባ ፣ ታህሳስ 18 ፣ 2012 (ኤፍ ቢ ሲ) ሩሲያ  ከድምፅ 27...   \n",
       "49342  የሶማሌ ክልል ህዝብ ኢትዮጵያ በገጠማት ችግር ብቻ ሳይሆን የሀገሪቱን አን...   \n",
       "\n",
       "                                                    link Source  \n",
       "15908  https://www.fanabc.com/%e1%8b%a8%e1%89%85%e1%8...    FBC  \n",
       "19608  https://www.fanabc.com/%e1%88%a9%e1%88%b2%e1%8...    FBC  \n",
       "49342                    https://waltainfo.com/am/31062/  Walta  "
      ]
     },
     "execution_count": 2,
     "metadata": {},
     "output_type": "execute_result"
    }
   ],
   "source": [
    "#Reading the data from directory\n",
    "data = pd.read_csv('data/NewsDataset.csv')\n",
    "data = shuffle(data)\n",
    "data.head(3)"
   ]
  },
  {
   "cell_type": "code",
   "execution_count": 3,
   "metadata": {},
   "outputs": [
    {
     "data": {
      "text/plain": [
       "(51372, 8)"
      ]
     },
     "execution_count": 3,
     "metadata": {},
     "output_type": "execute_result"
    }
   ],
   "source": [
    "#displays number of content data\n",
    "data.shape"
   ]
  },
  {
   "cell_type": "code",
   "execution_count": null,
   "metadata": {},
   "outputs": [],
   "source": [
    "#prints information about the DataFrame. \n",
    "#The information contains the number of columns, column labels, column data types, memory usage, range index, and the number of cells in each column (non-null values).\n",
    "data.info()"
   ]
  },
  {
   "cell_type": "code",
   "execution_count": 4,
   "metadata": {},
   "outputs": [
    {
     "data": {
      "text/plain": [
       "array(['FBC', 'Walta', 'Al-Ain', 'Ethiopian Press Agency',\n",
       "       'Soccer Ethiopia', 'VOA', 'Reporter', 'Addis Admass',\n",
       "       'Addis Maleda', 'AMMA', 'BBC'], dtype=object)"
      ]
     },
     "execution_count": 4,
     "metadata": {},
     "output_type": "execute_result"
    }
   ],
   "source": [
    "#Displays distinct values from source column\n",
    "data.Source.unique()"
   ]
  },
  {
   "cell_type": "code",
   "execution_count": 5,
   "metadata": {},
   "outputs": [
    {
     "data": {
      "text/plain": [
       "Soccer Ethiopia           9091\n",
       "Walta                     8785\n",
       "FBC                       7784\n",
       "VOA                       6981\n",
       "Reporter                  6280\n",
       "Ethiopian Press Agency    5598\n",
       "AMMA                      2442\n",
       "Addis Admass              1847\n",
       "Al-Ain                     887\n",
       "Addis Maleda               861\n",
       "BBC                        816\n",
       "Name: Source, dtype: int64"
      ]
     },
     "execution_count": 5,
     "metadata": {},
     "output_type": "execute_result"
    }
   ],
   "source": [
    "data.Source.value_counts()"
   ]
  },
  {
   "cell_type": "markdown",
   "metadata": {},
   "source": [
    "# Data cleaning and preparation"
   ]
  },
  {
   "cell_type": "code",
   "execution_count": 6,
   "metadata": {},
   "outputs": [],
   "source": [
    "#Removing the date (we won't use it for the analysis)\n",
    "data.drop([\"date\"],axis=1,inplace=True)\n",
    "#data.head()\n",
    "# Removing the views (we won't use it for the analysis)\n",
    "data.drop([\"views\"],axis=1,inplace=True)\n",
    "# Removing the headlines (we will only use the text)\n",
    "data.drop([\"category\"],axis=1,inplace=True)\n",
    "# Removing the headlines (we will only use the text)\n",
    "data.drop([\"headline\"],axis=1,inplace=True)\n",
    "# Removing the headlines (we will only use the text)\n",
    "data.drop([\"link\"],axis=1,inplace=True)\n",
    "data.head()"
   ]
  },
  {
   "cell_type": "code",
   "execution_count": 9,
   "metadata": {},
   "outputs": [],
   "source": [
    "# When you call this method dropna(),it will look for rows with missing values. \n",
    "#If it finds a row with a missing value, it will drop the entire row.\n",
    "data = data.dropna(subset=['article'])"
   ]
  },
  {
   "cell_type": "code",
   "execution_count": 10,
   "metadata": {},
   "outputs": [
    {
     "data": {
      "text/html": [
       "<div>\n",
       "<style scoped>\n",
       "    .dataframe tbody tr th:only-of-type {\n",
       "        vertical-align: middle;\n",
       "    }\n",
       "\n",
       "    .dataframe tbody tr th {\n",
       "        vertical-align: top;\n",
       "    }\n",
       "\n",
       "    .dataframe thead th {\n",
       "        text-align: right;\n",
       "    }\n",
       "</style>\n",
       "<table border=\"1\" class=\"dataframe\">\n",
       "  <thead>\n",
       "    <tr style=\"text-align: right;\">\n",
       "      <th></th>\n",
       "      <th>Unnamed: 0</th>\n",
       "      <th>article</th>\n",
       "      <th>Source</th>\n",
       "      <th>word_len</th>\n",
       "    </tr>\n",
       "  </thead>\n",
       "  <tbody>\n",
       "    <tr>\n",
       "      <th>15908</th>\n",
       "      <td>15908</td>\n",
       "      <td>አዲስ አበባ፣ ሐምሌ 30፣ 2012 (ኤፍ.ቢ.ሲ) የቅዱስ ጴጥሮስ ስፔሻላይ...</td>\n",
       "      <td>FBC</td>\n",
       "      <td>296</td>\n",
       "    </tr>\n",
       "    <tr>\n",
       "      <th>19608</th>\n",
       "      <td>19608</td>\n",
       "      <td>አዲስ አበባ ፣ ታህሳስ 18 ፣ 2012 (ኤፍ ቢ ሲ) ሩሲያ  ከድምፅ 27...</td>\n",
       "      <td>FBC</td>\n",
       "      <td>106</td>\n",
       "    </tr>\n",
       "    <tr>\n",
       "      <th>49342</th>\n",
       "      <td>49342</td>\n",
       "      <td>የሶማሌ ክልል ህዝብ ኢትዮጵያ በገጠማት ችግር ብቻ ሳይሆን የሀገሪቱን አን...</td>\n",
       "      <td>Walta</td>\n",
       "      <td>252</td>\n",
       "    </tr>\n",
       "    <tr>\n",
       "      <th>48869</th>\n",
       "      <td>48869</td>\n",
       "      <td>በኢትዮጵያ በሚገኙ አራት ክልሎች 525 ሰዎች በኮሌራ በሽታ መያዛቸውን የ...</td>\n",
       "      <td>Walta</td>\n",
       "      <td>234</td>\n",
       "    </tr>\n",
       "    <tr>\n",
       "      <th>49159</th>\n",
       "      <td>49159</td>\n",
       "      <td>በሰሜን ሸዋ፣ ኦሮሞ ብሔረሰብ አስተዳደር፣ ምዕራብና ማዕከላዊ ጎንደር፣ ቤ...</td>\n",
       "      <td>Walta</td>\n",
       "      <td>72</td>\n",
       "    </tr>\n",
       "  </tbody>\n",
       "</table>\n",
       "</div>"
      ],
      "text/plain": [
       "       Unnamed: 0                                            article Source  \\\n",
       "15908       15908  አዲስ አበባ፣ ሐምሌ 30፣ 2012 (ኤፍ.ቢ.ሲ) የቅዱስ ጴጥሮስ ስፔሻላይ...    FBC   \n",
       "19608       19608  አዲስ አበባ ፣ ታህሳስ 18 ፣ 2012 (ኤፍ ቢ ሲ) ሩሲያ  ከድምፅ 27...    FBC   \n",
       "49342       49342  የሶማሌ ክልል ህዝብ ኢትዮጵያ በገጠማት ችግር ብቻ ሳይሆን የሀገሪቱን አን...  Walta   \n",
       "48869       48869  በኢትዮጵያ በሚገኙ አራት ክልሎች 525 ሰዎች በኮሌራ በሽታ መያዛቸውን የ...  Walta   \n",
       "49159       49159  በሰሜን ሸዋ፣ ኦሮሞ ብሔረሰብ አስተዳደር፣ ምዕራብና ማዕከላዊ ጎንደር፣ ቤ...  Walta   \n",
       "\n",
       "       word_len  \n",
       "15908       296  \n",
       "19608       106  \n",
       "49342       252  \n",
       "48869       234  \n",
       "49159        72  "
      ]
     },
     "execution_count": 10,
     "metadata": {},
     "output_type": "execute_result"
    }
   ],
   "source": [
    "#Display the word length of text exist in article column and put in word_len column\n",
    "data['word_len'] = data['article'].str.split().str.len()\n",
    "data.head()"
   ]
  },
  {
   "cell_type": "code",
   "execution_count": 11,
   "metadata": {},
   "outputs": [
    {
     "name": "stderr",
     "output_type": "stream",
     "text": [
      "C:\\Users\\user\\anaconda3\\lib\\site-packages\\seaborn\\distributions.py:2551: FutureWarning: `distplot` is a deprecated function and will be removed in a future version. Please adapt your code to use either `displot` (a figure-level function with similar flexibility) or `histplot` (an axes-level function for histograms).\n",
      "  warnings.warn(msg, FutureWarning)\n"
     ]
    },
    {
     "data": {
      "image/png": "[encoded data removed]",
      "text/plain": [
       "<Figure size 432x288 with 1 Axes>"
      ]
     },
     "metadata": {
      "needs_background": "light"
     },
     "output_type": "display_data"
    }
   ],
   "source": [
    "#draws word length distribution table\n",
    "import seaborn as sns\n",
    "sns.distplot(data['word_len']).set_title('Word length distribution');"
   ]
  },
  {
   "cell_type": "markdown",
   "metadata": {},
   "source": [
    "# character level normalization\n",
    "\n",
    "Amharic has characters wich have the same sound that can be interchangably used.\n",
    "\n",
    "for example letters 'ሃ','ኅ','ኃ','ሐ','ሓ','ኻ','ሀ' have the same sound so we change them to 'ሀ' "
   ]
  },
  {
   "cell_type": "code",
   "execution_count": 13,
   "metadata": {},
   "outputs": [],
   "source": [
    "import re\n",
    "#method to normalize character level missmatch such as ጸሀይ and ፀሐይ\n",
    "def normalize_char_level_missmatch(input_token):\n",
    "    rep1=re.sub('[ሃኅኃሐሓኻ]','ሀ',input_token)\n",
    "    rep2=re.sub('[ሑኁዅ]','ሁ',rep1)\n",
    "    rep3=re.sub('[ኂሒኺ]','ሂ',rep2)\n",
    "    rep4=re.sub('[ኌሔዄ]','ሄ',rep3)\n",
    "    rep5=re.sub('[ሕኅ]','ህ',rep4)\n",
    "    rep6=re.sub('[ኆሖኾ]','ሆ',rep5)\n",
    "    rep7=re.sub('[ሠ]','ሰ',rep6)\n",
    "    rep8=re.sub('[ሡ]','ሱ',rep7)\n",
    "    rep9=re.sub('[ሢ]','ሲ',rep8)\n",
    "    rep10=re.sub('[ሣ]','ሳ',rep9)\n",
    "    rep11=re.sub('[ሤ]','ሴ',rep10)\n",
    "    rep12=re.sub('[ሥ]','ስ',rep11)\n",
    "    rep13=re.sub('[ሦ]','ሶ',rep12)\n",
    "    rep14=re.sub('[ዓኣዐ]','አ',rep13)\n",
    "    rep15=re.sub('[ዑ]','ኡ',rep14)\n",
    "    rep16=re.sub('[ዒ]','ኢ',rep15)\n",
    "    rep17=re.sub('[ዔ]','ኤ',rep16)\n",
    "    rep18=re.sub('[ዕ]','እ',rep17)\n",
    "    rep19=re.sub('[ዖ]','ኦ',rep18)\n",
    "    rep20=re.sub('[ጸ]','ፀ',rep19)\n",
    "    rep21=re.sub('[ጹ]','ፁ',rep20)\n",
    "    rep22=re.sub('[ጺ]','ፂ',rep21)\n",
    "    rep23=re.sub('[ጻ]','ፃ',rep22)\n",
    "    rep24=re.sub('[ጼ]','ፄ',rep23)\n",
    "    rep25=re.sub('[ጽ]','ፅ',rep24)\n",
    "    rep26=re.sub('[ጾ]','ፆ',rep25)\n",
    "    #Normalizing words with Labialized Amharic characters such as በልቱዋል or  በልቱአል to  በልቷል  \n",
    "    rep27=re.sub('(ሉ[ዋአ])','ሏ',rep26)\n",
    "    rep28=re.sub('(ሙ[ዋአ])','ሟ',rep27)\n",
    "    rep29=re.sub('(ቱ[ዋአ])','ቷ',rep28)\n",
    "    rep30=re.sub('(ሩ[ዋአ])','ሯ',rep29)\n",
    "    rep31=re.sub('(ሱ[ዋአ])','ሷ',rep30)\n",
    "    rep32=re.sub('(ሹ[ዋአ])','ሿ',rep31)\n",
    "    rep33=re.sub('(ቁ[ዋአ])','ቋ',rep32)\n",
    "    rep34=re.sub('(ቡ[ዋአ])','ቧ',rep33)\n",
    "    rep35=re.sub('(ቹ[ዋአ])','ቿ',rep34)\n",
    "    rep36=re.sub('(ሁ[ዋአ])','ኋ',rep35)\n",
    "    rep37=re.sub('(ኑ[ዋአ])','ኗ',rep36)\n",
    "    rep38=re.sub('(ኙ[ዋአ])','ኟ',rep37)\n",
    "    rep39=re.sub('(ኩ[ዋአ])','ኳ',rep38)\n",
    "    rep40=re.sub('(ዙ[ዋአ])','ዟ',rep39)\n",
    "    rep41=re.sub('(ጉ[ዋአ])','ጓ',rep40)\n",
    "    rep42=re.sub('(ደ[ዋአ])','ዷ',rep41)\n",
    "    rep43=re.sub('(ጡ[ዋአ])','ጧ',rep42)\n",
    "    rep44=re.sub('(ጩ[ዋአ])','ጯ',rep43)\n",
    "    rep45=re.sub('(ጹ[ዋአ])','ጿ',rep44)\n",
    "    rep46=re.sub('(ፉ[ዋአ])','ፏ',rep45)\n",
    "    rep47=re.sub('[ቊ]','ቁ',rep46) #ቁ can be written as ቊ\n",
    "    rep48=re.sub('[ኵ]','ኩ',rep47) #ኩ can be also written as ኵ  \n",
    "    return rep48\n"
   ]
  },
  {
   "cell_type": "code",
   "execution_count": 14,
   "metadata": {},
   "outputs": [],
   "source": [
    "#Removing the special characters \n",
    "#Removing Punctuations and Stopwords\n",
    "data['article'] = data['article'].str.replace('[^\\w\\s]','')"
   ]
  },
  {
   "cell_type": "code",
   "execution_count": 15,
   "metadata": {},
   "outputs": [],
   "source": [
    "#Applying the the normalization Function\n",
    "data['article'] = data['article'].apply(lambda x: normalize_char_level_missmatch(x))"
   ]
  },
  {
   "cell_type": "code",
   "execution_count": 16,
   "metadata": {},
   "outputs": [],
   "source": [
    "n_data = data[['article','Source']]\n",
    "n_data.head()\n",
    "text,label = data['article'].values,data['Source'].values"
   ]
  },
  {
   "cell_type": "code",
   "execution_count": 17,
   "metadata": {},
   "outputs": [],
   "source": [
    "#Saving preprocessed data\n",
    "data.to_csv('Amharic_News Processed2023.csv')"
   ]
  },
  {
   "cell_type": "markdown",
   "metadata": {},
   "source": [
    "# Modelling"
   ]
  },
  {
   "cell_type": "code",
   "execution_count": 18,
   "metadata": {},
   "outputs": [],
   "source": [
    "# Function to plot the confusion matrix \n",
    "from sklearn import metrics\n",
    "import matplotlib.pyplot as plt\n",
    "import itertools\n",
    "\n",
    "def plot_confusion_matrix(cm, classes,\n",
    "                          normalize=False,\n",
    "                          title='Confusion matrix',\n",
    "                          cmap=plt.cm.Greens):\n",
    "    plt.figure(figsize=(20, 10))\n",
    "    plt.imshow(cm, interpolation='nearest', cmap=cmap)\n",
    "    plt.title(title)\n",
    "    plt.colorbar()\n",
    "    tick_marks = np.arange(len(classes))\n",
    "    plt.xticks(tick_marks, classes, rotation=45)\n",
    "    plt.yticks(tick_marks, classes)\n",
    "\n",
    "    if normalize:\n",
    "       cm = cm.astype('float') / cm.sum(axis=1)[:, np.newaxis]\n",
    "    else:\n",
    "         'Confusion matrix, without normalization'\n",
    "\n",
    "    thresh = cm.max() / 2.\n",
    "    for i, j in itertools.product(range(cm.shape[0]), range(cm.shape[1])):\n",
    "        plt.text(j, i, cm[i, j],\n",
    "                 horizontalalignment=\"center\",\n",
    "                 color=\"white\" if cm[i, j] > thresh else \"black\")\n",
    "\n",
    "    plt.tight_layout()\n",
    "    plt.ylabel('True label')\n",
    "    plt.xlabel('Predicted label')"
   ]
  },
  {
   "cell_type": "markdown",
   "metadata": {},
   "source": [
    "# Naive Bays - CountVectorizer"
   ]
  },
  {
   "cell_type": "code",
   "execution_count": null,
   "metadata": {},
   "outputs": [],
   "source": [
    "#Extracting feature\n",
    "from sklearn.feature_extraction.text import CountVectorizer\n",
    "matrix = CountVectorizer(analyzer='word',max_features=100,ngram_range=(1, 3))\n",
    "X = matrix.fit_transform(text).toarray()\n",
    "X"
   ]
  },
  {
   "cell_type": "code",
   "execution_count": null,
   "metadata": {},
   "outputs": [],
   "source": [
    "#Append values corresponding to a unique label as a list of values in pandas dataframe\n",
    "unique_label = list(set(label))\n",
    "Y= []\n",
    "for i in label:\n",
    "    Y.append(unique_label.index(i))"
   ]
  },
  {
   "cell_type": "markdown",
   "metadata": {},
   "source": [
    "# Split the data in Training and testing"
   ]
  },
  {
   "cell_type": "code",
   "execution_count": null,
   "metadata": {},
   "outputs": [],
   "source": [
    "from sklearn.model_selection import train_test_split\n",
    "X_train, X_test, y_train, y_test = train_test_split(X, Y,test_size=0.2)"
   ]
  },
  {
   "cell_type": "markdown",
   "metadata": {},
   "source": [
    "# Applying Gaussian Naive Bayes Algorithms"
   ]
  },
  {
   "cell_type": "code",
   "execution_count": null,
   "metadata": {},
   "outputs": [],
   "source": [
    "from sklearn.naive_bayes import GaussianNB\n",
    "model = GaussianNB()\n",
    "model.fit(X_train, y_train)\n",
    "model_predictions = model.predict(X_test)\n",
    "print(\"Accuracy: {}%\".format(round(accuracy_score(y_test, model_predictions)*100,2)))\n",
    "print(classification_report(y_test, model_predictions,target_names=['FBC', 'Walta', 'Al-Ain', 'Ethiopian Press Agency', 'Soccer Ethiopia', 'VOA', 'Reporter', 'Addis Admass','Addis Maleda','AMMA','BBC']))"
   ]
  },
  {
   "cell_type": "code",
   "execution_count": null,
   "metadata": {},
   "outputs": [],
   "source": [
    "# used to measure the performance of a classifier in depth(i.e Gaussian Naive Bayes). \n",
    "cm = metrics.confusion_matrix(y_test, model_predictions)\n",
    "plot_confusion_matrix(cm, classes=['FBC', 'Walta', 'Al-Ain', 'Ethiopian Press Agency', 'Soccer Ethiopia', 'VOA', 'Reporter', 'Addis Admass','Addis Maleda','AMMA','BBC'])"
   ]
  },
  {
   "cell_type": "markdown",
   "metadata": {},
   "source": [
    "# Applying Random Forest Classifier"
   ]
  },
  {
   "cell_type": "code",
   "execution_count": null,
   "metadata": {
    "scrolled": true
   },
   "outputs": [],
   "source": [
    "from sklearn.ensemble import RandomForestClassifier\n",
    "model  = RandomForestClassifier(random_state=1)\n",
    "model.fit(X_train, y_train)\n",
    "model_predictions = model.predict(X_test)\n",
    "#print('Accuracy: {}%'.format accuracy_score(y_test, model_predictions))\n",
    "print(\"Accuracy: {}%\".format(round(accuracy_score(y_test, model_predictions)*100,2)))\n",
    "print(classification_report(y_test, model_predictions,target_names=['FBC', 'Walta', 'Al-Ain', 'Ethiopian Press Agency', 'Soccer Ethiopia', 'VOA', 'Reporter', 'Addis Admass','Addis Maleda','AMMA','BBC']))"
   ]
  },
  {
   "cell_type": "code",
   "execution_count": null,
   "metadata": {},
   "outputs": [],
   "source": [
    "# used to measure the performance of a classifier in depth(i.e Random Forest). \n",
    "cm = metrics.confusion_matrix(y_test, model_predictions)\n",
    "plot_confusion_matrix(cm, classes=['FBC', 'Walta', 'Al-Ain', 'Ethiopian Press Agency', 'Soccer Ethiopia', 'VOA', 'Reporter', 'Addis Admass','Addis Maleda','AMMA','BBC'])"
   ]
  },
  {
   "cell_type": "markdown",
   "metadata": {},
   "source": [
    "# Applying Logistic Regression Classifier"
   ]
  },
  {
   "cell_type": "code",
   "execution_count": null,
   "metadata": {},
   "outputs": [],
   "source": [
    "from sklearn.linear_model import LogisticRegression\n",
    "model = LogisticRegression()\n",
    "model.fit(X_train, y_train)\n",
    "model_predictions = model.predict(X_test)\n",
    "print(\"Accuracy: {}%\".format(round(accuracy_score(y_test, model_predictions)*100,2)))\n",
    "print(classification_report(y_test, model_predictions,target_names=['FBC', 'Walta', 'Al-Ain', 'Ethiopian Press Agency', 'Soccer Ethiopia', 'VOA', 'Reporter', 'Addis Admass','Addis Maleda','AMMA','BBC']))"
   ]
  },
  {
   "cell_type": "code",
   "execution_count": null,
   "metadata": {},
   "outputs": [],
   "source": [
    "# used to measure the performance of a classifier in depth(i.e Logistic Regression). \n",
    "cm = metrics.confusion_matrix(y_test, model_predictions)\n",
    "plot_confusion_matrix(cm, classes=['FBC', 'Walta', 'Al-Ain', 'Ethiopian Press Agency', 'Soccer Ethiopia', 'VOA', 'Reporter', 'Addis Admass','Addis Maleda','AMMA','BBC'])"
   ]
  },
  {
   "cell_type": "markdown",
   "metadata": {},
   "source": [
    "# Applying k-nearest neighbors Classifier"
   ]
  },
  {
   "cell_type": "code",
   "execution_count": null,
   "metadata": {},
   "outputs": [],
   "source": [
    "from sklearn.neighbors import KNeighborsClassifier\n",
    "model = KNeighborsClassifier()\n",
    "model.fit(X_train, y_train)\n",
    "model_predictions = model.predict(X_test)\n",
    "print(\"Accuracy: {}%\".format(round(accuracy_score(y_test, model_predictions)*100,2)))\n",
    "print(classification_report(y_test, model_predictions,target_names=['FBC', 'Walta', 'Al-Ain', 'Ethiopian Press Agency', 'Soccer Ethiopia', 'VOA', 'Reporter', 'Addis Admass','Addis Maleda','AMMA','BBC']))"
   ]
  },
  {
   "cell_type": "code",
   "execution_count": null,
   "metadata": {},
   "outputs": [],
   "source": [
    "# used to measure the performance of a classifier in depth(i.e k-nearest neighbor). \n",
    "cm = metrics.confusion_matrix(y_test, model_predictions)\n",
    "plot_confusion_matrix(cm, classes=['FBC', 'Walta', 'Al-Ain', 'Ethiopian Press Agency', 'Soccer Ethiopia', 'VOA', 'Reporter', 'Addis Admass','Addis Maleda','AMMA','BBC'])"
   ]
  },
  {
   "cell_type": "markdown",
   "metadata": {},
   "source": [
    "# Applying Decission Tree Classifier"
   ]
  },
  {
   "cell_type": "code",
   "execution_count": null,
   "metadata": {},
   "outputs": [],
   "source": [
    "from sklearn.tree import DecisionTreeClassifier\n",
    "model = DecisionTreeClassifier(random_state=1)\n",
    "model.fit(X_train, y_train)\n",
    "model_predictions = model.predict(X_test)\n",
    "print(\"Accuracy: {}%\".format(round(accuracy_score(y_test, model_predictions)*100,2)))\n",
    "print(classification_report(y_test, model_predictions,target_names=['FBC', 'Walta', 'Al-Ain', 'Ethiopian Press Agency', 'Soccer Ethiopia', 'VOA', 'Reporter', 'Addis Admass','Addis Maleda','AMMA','BBC']))"
   ]
  },
  {
   "cell_type": "code",
   "execution_count": null,
   "metadata": {},
   "outputs": [],
   "source": [
    "# used to measure the performance of a classifier in depth(i.e Decision Tree). \n",
    "cm = metrics.confusion_matrix(y_test, model_predictions)\n",
    "plot_confusion_matrix(cm, classes=['FBC', 'Walta', 'Al-Ain', 'Ethiopian Press Agency', 'Soccer Ethiopia', 'VOA', 'Reporter', 'Addis Admass','Addis Maleda','AMMA','BBC'])"
   ]
  },
  {
   "cell_type": "markdown",
   "metadata": {},
   "source": [
    "# Applying Support Vector Machine Classifier"
   ]
  },
  {
   "cell_type": "code",
   "execution_count": null,
   "metadata": {},
   "outputs": [],
   "source": [
    "from sklearn import model_selection, svm\n",
    "SVM = svm.SVC(C=1.0, kernel='linear', degree=3, gamma='auto')\n",
    "SVM.fit(X_train,y_train)\n",
    "model_predictions = SVM.predict(X_test)\n",
    "print(\"Accuracy: {}%\".format(round(accuracy_score(y_test, model_predictions)*100,2)))\n",
    "print(classification_report(y_test, model_predictions,target_names=['FBC', 'Walta', 'Al-Ain', 'Ethiopian Press Agency', 'Soccer Ethiopia', 'VOA', 'Reporter', 'Addis Admass','Addis Maleda','AMMA','BBC']))"
   ]
  },
  {
   "cell_type": "code",
   "execution_count": null,
   "metadata": {},
   "outputs": [],
   "source": [
    "# used to measure the performance of a classifier in depth(i.e Support Vector Machine).\n",
    "cm = metrics.confusion_matrix(y_test, model_predictions)\n",
    "plot_confusion_matrix(cm, classes=['FBC', 'Al-Ain', 'Ethiopian Press Agency', 'Soccer Ethiopia', 'VOA', 'Reporter', 'Addis Admass','Addis Maleda','AMMA','BBC'])"
   ]
  },
  {
   "cell_type": "code",
   "execution_count": null,
   "metadata": {},
   "outputs": [],
   "source": []
  }
 ],
 "metadata": {
  "kernelspec": {
   "display_name": "Python 3",
   "language": "python",
   "name": "python3"
  },
  "language_info": {
   "codemirror_mode": {
    "name": "ipython",
    "version": 3
   },
   "file_extension": ".py",
   "mimetype": "text/x-python",
   "name": "python",
   "nbconvert_exporter": "python",
   "pygments_lexer": "ipython3",
   "version": "3.8.5"
  }
 },
 "nbformat": 4,
 "nbformat_minor": 4
}
