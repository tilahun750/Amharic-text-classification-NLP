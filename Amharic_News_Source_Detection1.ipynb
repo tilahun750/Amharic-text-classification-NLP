{
 "cells": [
  {
   "cell_type": "code",
   "execution_count": 1,
   "metadata": {
    "id": "myAXt78uN5Hn"
   },
   "outputs": [],
   "source": [
    "%matplotlib inline\n",
    "\n",
    "import matplotlib\n",
    "import pandas as pd\n",
    "import numpy as np\n",
    "import re\n",
    "from sklearn.utils import shuffle\n",
    "from sklearn.metrics import accuracy_score, classification_report\n",
    "from sklearn.feature_extraction.text import TfidfTransformer\n",
    "import warnings\n",
    "warnings.filterwarnings(\"ignore\")\n",
    "from sklearn import metrics\n",
    "import matplotlib.pyplot as plt\n",
    "import itertools"
   ]
  },
  {
   "cell_type": "code",
   "execution_count": 2,
   "metadata": {
    "colab": {
     "base_uri": "https://localhost:8080/",
     "height": 55
    },
    "id": "G-rw4w1GN5IC",
    "outputId": "372a859f-5a3c-49b8-dc55-11b989803347"
   },
   "outputs": [
    {
     "data": {
      "text/html": [
       "<div>\n",
       "<style scoped>\n",
       "    .dataframe tbody tr th:only-of-type {\n",
       "        vertical-align: middle;\n",
       "    }\n",
       "\n",
       "    .dataframe tbody tr th {\n",
       "        vertical-align: top;\n",
       "    }\n",
       "\n",
       "    .dataframe thead th {\n",
       "        text-align: right;\n",
       "    }\n",
       "</style>\n",
       "<table border=\"1\" class=\"dataframe\">\n",
       "  <thead>\n",
       "    <tr style=\"text-align: right;\">\n",
       "      <th></th>\n",
       "      <th>headline</th>\n",
       "      <th>category</th>\n",
       "      <th>date</th>\n",
       "      <th>views</th>\n",
       "      <th>article</th>\n",
       "      <th>link</th>\n",
       "      <th>Source</th>\n",
       "    </tr>\n",
       "  </thead>\n",
       "  <tbody>\n",
       "    <tr>\n",
       "      <th>27662</th>\n",
       "      <td>የኢትዮጵያ እግር ኳስ ፌዴሬሽን ሥራ አስፈፃሚ ኮሚቴ አስቸኳይ ስብስባ አደ...</td>\n",
       "      <td>ስፖርት</td>\n",
       "      <td>18/06/2020</td>\n",
       "      <td>NaN</td>\n",
       "      <td>የኢትዮጵያ እግር ኳስ ፌዴሬሽን ስራ አስፈጻሚ ኮሚቴ አባላት ዛሬ ሰኔ 10...</td>\n",
       "      <td>https://Soccer Ethiopia.net/football/58474</td>\n",
       "      <td>Soccer Ethiopia</td>\n",
       "    </tr>\n",
       "    <tr>\n",
       "      <th>34492</th>\n",
       "      <td>የኢትዮጵያ ከፍተኛ ሊግ ተስተካካይ ጨዋታ የሚደረግባቸው ቀናት ይፋ ተደርገ...</td>\n",
       "      <td>ስፖርት</td>\n",
       "      <td>18/04/2016</td>\n",
       "      <td>NaN</td>\n",
       "      <td>ጅማ አባ ቡና ፣ ሙገር ሲሚንቶ እና አአ ከተማ ለኢትዮጵያ ከ20 አመት በ...</td>\n",
       "      <td>https://Soccer Ethiopia.net/football/9150</td>\n",
       "      <td>Soccer Ethiopia</td>\n",
       "    </tr>\n",
       "    <tr>\n",
       "      <th>25840</th>\n",
       "      <td>በዝናብ እጥረት የምግብ ዋስትና ችግር ለገጠማቸው በውስን ጨረታ ስንዴ እን...</td>\n",
       "      <td>ሀገር አቀፍ ዜና</td>\n",
       "      <td>23/08/2015</td>\n",
       "      <td>NaN</td>\n",
       "      <td>በዝናብ እጥረት ምክንያት የምግብ ዋስትና ችግር ለገጠማቸው ወገኖች በውስን...</td>\n",
       "      <td>https://www.ethiopianreporter.com/article/8463</td>\n",
       "      <td>Reporter</td>\n",
       "    </tr>\n",
       "    <tr>\n",
       "      <th>14354</th>\n",
       "      <td>ለመከላከያ ሠራዊት እየተደረገ ያለውን ድጋፍ ለማስተናገድ የፌዴራል ተቋማት...</td>\n",
       "      <td>ሀገር አቀፍ ዜና</td>\n",
       "      <td>11/11/2020</td>\n",
       "      <td>551.0</td>\n",
       "      <td>አዲስ አበባ ፣ ህዳር 2 ፣ 2013 (ኤፍ ቢ ሲ) ለመከላከያ ሠራዊት እየ...</td>\n",
       "      <td>https://www.fanabc.com/%e1%88%88%e1%88%98%e1%8...</td>\n",
       "      <td>FBC</td>\n",
       "    </tr>\n",
       "    <tr>\n",
       "      <th>28442</th>\n",
       "      <td>ሪፖርት | ወልዋሎ እና ኢትዮጵያ ቡና ነጥብ ተጋርተዋል ዜና - ሶከር ኢት...</td>\n",
       "      <td>ስፖርት</td>\n",
       "      <td>26/01/2020</td>\n",
       "      <td>NaN</td>\n",
       "      <td>በ10ኛ ሳምንት የኢትዮጵያ ፕሪምየር ሊግ መቐለ ላይ ወልዋሎ እና ኢትዮጵያ...</td>\n",
       "      <td>https://Soccer Ethiopia.net/football/54855</td>\n",
       "      <td>Soccer Ethiopia</td>\n",
       "    </tr>\n",
       "  </tbody>\n",
       "</table>\n",
       "</div>"
      ],
      "text/plain": [
       "                                                headline    category  \\\n",
       "27662  የኢትዮጵያ እግር ኳስ ፌዴሬሽን ሥራ አስፈፃሚ ኮሚቴ አስቸኳይ ስብስባ አደ...        ስፖርት   \n",
       "34492  የኢትዮጵያ ከፍተኛ ሊግ ተስተካካይ ጨዋታ የሚደረግባቸው ቀናት ይፋ ተደርገ...        ስፖርት   \n",
       "25840  በዝናብ እጥረት የምግብ ዋስትና ችግር ለገጠማቸው በውስን ጨረታ ስንዴ እን...  ሀገር አቀፍ ዜና   \n",
       "14354  ለመከላከያ ሠራዊት እየተደረገ ያለውን ድጋፍ ለማስተናገድ የፌዴራል ተቋማት...  ሀገር አቀፍ ዜና   \n",
       "28442  ሪፖርት | ወልዋሎ እና ኢትዮጵያ ቡና ነጥብ ተጋርተዋል ዜና - ሶከር ኢት...        ስፖርት   \n",
       "\n",
       "             date  views                                            article  \\\n",
       "27662  18/06/2020    NaN  የኢትዮጵያ እግር ኳስ ፌዴሬሽን ስራ አስፈጻሚ ኮሚቴ አባላት ዛሬ ሰኔ 10...   \n",
       "34492  18/04/2016    NaN  ጅማ አባ ቡና ፣ ሙገር ሲሚንቶ እና አአ ከተማ ለኢትዮጵያ ከ20 አመት በ...   \n",
       "25840  23/08/2015    NaN  በዝናብ እጥረት ምክንያት የምግብ ዋስትና ችግር ለገጠማቸው ወገኖች በውስን...   \n",
       "14354  11/11/2020  551.0  አዲስ አበባ ፣ ህዳር 2 ፣ 2013 (ኤፍ ቢ ሲ) ለመከላከያ ሠራዊት እየ...   \n",
       "28442  26/01/2020    NaN  በ10ኛ ሳምንት የኢትዮጵያ ፕሪምየር ሊግ መቐለ ላይ ወልዋሎ እና ኢትዮጵያ...   \n",
       "\n",
       "                                                    link           Source  \n",
       "27662         https://Soccer Ethiopia.net/football/58474  Soccer Ethiopia  \n",
       "34492          https://Soccer Ethiopia.net/football/9150  Soccer Ethiopia  \n",
       "25840     https://www.ethiopianreporter.com/article/8463         Reporter  \n",
       "14354  https://www.fanabc.com/%e1%88%88%e1%88%98%e1%8...              FBC  \n",
       "28442         https://Soccer Ethiopia.net/football/54855  Soccer Ethiopia  "
      ]
     },
     "execution_count": 2,
     "metadata": {},
     "output_type": "execute_result"
    }
   ],
   "source": [
    "#Reading the data from directory\n",
    "data = pd.read_csv('data/AmharicNewsData.csv',encoding='utf-8')\n",
    "data=shuffle(data)\n",
    "data.head()"
   ]
  },
  {
   "cell_type": "code",
   "execution_count": 3,
   "metadata": {
    "id": "e9annweqN5II",
    "outputId": "33f14698-d0a4-4d31-d406-688138cf5c40"
   },
   "outputs": [
    {
     "data": {
      "text/plain": [
       "(51372, 7)"
      ]
     },
     "execution_count": 3,
     "metadata": {},
     "output_type": "execute_result"
    }
   ],
   "source": [
    "#displays number of content data\n",
    "data.shape"
   ]
  },
  {
   "cell_type": "code",
   "execution_count": 4,
   "metadata": {},
   "outputs": [
    {
     "data": {
      "text/plain": [
       "ሀገር አቀፍ ዜና    20666\n",
       "ስፖርት          10309\n",
       "ፖለቲካ           9325\n",
       "ዓለም አቀፍ ዜና     6543\n",
       "ቢዝነስ           3894\n",
       "መዝናኛ            635\n",
       "Name: category, dtype: int64"
      ]
     },
     "execution_count": 4,
     "metadata": {},
     "output_type": "execute_result"
    }
   ],
   "source": [
    "data.category.value_counts()"
   ]
  },
  {
   "cell_type": "code",
   "execution_count": 5,
   "metadata": {
    "id": "1NyeR-FyN5IL",
    "outputId": "669052a4-6b1e-4a39-9560-d1830a81587e"
   },
   "outputs": [
    {
     "name": "stdout",
     "output_type": "stream",
     "text": [
      "<class 'pandas.core.frame.DataFrame'>\n",
      "Int64Index: 51372 entries, 27662 to 44317\n",
      "Data columns (total 7 columns):\n",
      " #   Column    Non-Null Count  Dtype  \n",
      "---  ------    --------------  -----  \n",
      " 0   headline  47809 non-null  object \n",
      " 1   category  51372 non-null  object \n",
      " 2   date      47821 non-null  object \n",
      " 3   views     18532 non-null  float64\n",
      " 4   article   51343 non-null  object \n",
      " 5   link      51372 non-null  object \n",
      " 6   Source    51372 non-null  object \n",
      "dtypes: float64(1), object(6)\n",
      "memory usage: 3.1+ MB\n"
     ]
    }
   ],
   "source": [
    "#prints information about the DataFrame. \n",
    "#The information contains the number of columns, column labels, column data types, memory usage, range index, and the number of cells in each column (non-null values).\n",
    "data.info()"
   ]
  },
  {
   "cell_type": "markdown",
   "metadata": {
    "id": "084IDdzhN5IO"
   },
   "source": [
    "# Data cleaning and preparation"
   ]
  },
  {
   "cell_type": "code",
   "execution_count": 6,
   "metadata": {
    "id": "OS49ehp0N5IV"
   },
   "outputs": [],
   "source": [
    "#Removing the unwated column for our purpose (we won't use it for the analysis)\n",
    "data.drop(['date', 'views', 'headline','link', 'Source'],axis=1,inplace=True)\n",
    "#data.head()"
   ]
  },
  {
   "cell_type": "code",
   "execution_count": 7,
   "metadata": {
    "id": "0kHrpwjgN5IZ",
    "outputId": "8e76e878-7988-4b98-9a37-7300de5097e4"
   },
   "outputs": [
    {
     "data": {
      "text/plain": [
       "category    False\n",
       "article      True\n",
       "dtype: bool"
      ]
     },
     "execution_count": 7,
     "metadata": {},
     "output_type": "execute_result"
    }
   ],
   "source": [
    "data.isnull().any()"
   ]
  },
  {
   "cell_type": "code",
   "execution_count": 8,
   "metadata": {
    "id": "ARFbWhxNN5Id"
   },
   "outputs": [],
   "source": [
    "# When you call this method dropna(),it will look for rows with missing values. \n",
    "#If it finds a row with a missing value, it will drop the entire row.\n",
    "data = data.dropna(subset=['article'])"
   ]
  },
  {
   "cell_type": "code",
   "execution_count": 9,
   "metadata": {
    "id": "LMN_xke2N5Ih",
    "outputId": "1a7dd5c3-231f-4fed-c47f-3fc1e015d37f"
   },
   "outputs": [
    {
     "data": {
      "text/plain": [
       "0"
      ]
     },
     "execution_count": 9,
     "metadata": {},
     "output_type": "execute_result"
    }
   ],
   "source": [
    "#checking the null value of article classes\n",
    "data.article.isnull().sum()"
   ]
  },
  {
   "cell_type": "code",
   "execution_count": 10,
   "metadata": {
    "id": "FY9B8bpoN5Il",
    "outputId": "4fdee86b-db18-4d06-accb-b3903deb5c75"
   },
   "outputs": [
    {
     "data": {
      "text/plain": [
       "ሀገር አቀፍ ዜና    20665\n",
       "ስፖርት          10308\n",
       "ፖለቲካ           9310\n",
       "ዓለም አቀፍ ዜና     6538\n",
       "ቢዝነስ           3887\n",
       "መዝናኛ            635\n",
       "Name: category, dtype: int64"
      ]
     },
     "execution_count": 10,
     "metadata": {},
     "output_type": "execute_result"
    }
   ],
   "source": [
    "#counts the number of articles including in source category after droping null value\n",
    "data.category.value_counts()"
   ]
  },
  {
   "cell_type": "code",
   "execution_count": 11,
   "metadata": {
    "id": "67XlyF-WN5Iu",
    "outputId": "516c90b2-7455-4516-b917-77e493980447"
   },
   "outputs": [
    {
     "data": {
      "text/plain": [
       "array(['ስፖርት', 'ሀገር አቀፍ ዜና', 'ፖለቲካ', 'ቢዝነስ', 'ዓለም አቀፍ ዜና', 'መዝናኛ'],\n",
       "      dtype=object)"
      ]
     },
     "execution_count": 11,
     "metadata": {},
     "output_type": "execute_result"
    }
   ],
   "source": [
    "#Displays distinct values from source column\n",
    "data.category.unique()"
   ]
  },
  {
   "cell_type": "code",
   "execution_count": 12,
   "metadata": {
    "id": "Tqy7Cw6YN5Ix",
    "outputId": "a6e6b342-6a3b-4850-cb4e-0453b53e1dde"
   },
   "outputs": [
    {
     "data": {
      "text/html": [
       "<div>\n",
       "<style scoped>\n",
       "    .dataframe tbody tr th:only-of-type {\n",
       "        vertical-align: middle;\n",
       "    }\n",
       "\n",
       "    .dataframe tbody tr th {\n",
       "        vertical-align: top;\n",
       "    }\n",
       "\n",
       "    .dataframe thead th {\n",
       "        text-align: right;\n",
       "    }\n",
       "</style>\n",
       "<table border=\"1\" class=\"dataframe\">\n",
       "  <thead>\n",
       "    <tr style=\"text-align: right;\">\n",
       "      <th></th>\n",
       "      <th>category</th>\n",
       "      <th>article</th>\n",
       "      <th>category_ID</th>\n",
       "    </tr>\n",
       "  </thead>\n",
       "  <tbody>\n",
       "    <tr>\n",
       "      <th>27662</th>\n",
       "      <td>ስፖርት</td>\n",
       "      <td>የኢትዮጵያ እግር ኳስ ፌዴሬሽን ስራ አስፈጻሚ ኮሚቴ አባላት ዛሬ ሰኔ 10...</td>\n",
       "      <td>0</td>\n",
       "    </tr>\n",
       "    <tr>\n",
       "      <th>34492</th>\n",
       "      <td>ስፖርት</td>\n",
       "      <td>ጅማ አባ ቡና ፣ ሙገር ሲሚንቶ እና አአ ከተማ ለኢትዮጵያ ከ20 አመት በ...</td>\n",
       "      <td>0</td>\n",
       "    </tr>\n",
       "    <tr>\n",
       "      <th>25840</th>\n",
       "      <td>ሀገር አቀፍ ዜና</td>\n",
       "      <td>በዝናብ እጥረት ምክንያት የምግብ ዋስትና ችግር ለገጠማቸው ወገኖች በውስን...</td>\n",
       "      <td>1</td>\n",
       "    </tr>\n",
       "    <tr>\n",
       "      <th>14354</th>\n",
       "      <td>ሀገር አቀፍ ዜና</td>\n",
       "      <td>አዲስ አበባ ፣ ህዳር 2 ፣ 2013 (ኤፍ ቢ ሲ) ለመከላከያ ሠራዊት እየ...</td>\n",
       "      <td>1</td>\n",
       "    </tr>\n",
       "    <tr>\n",
       "      <th>28442</th>\n",
       "      <td>ስፖርት</td>\n",
       "      <td>በ10ኛ ሳምንት የኢትዮጵያ ፕሪምየር ሊግ መቐለ ላይ ወልዋሎ እና ኢትዮጵያ...</td>\n",
       "      <td>0</td>\n",
       "    </tr>\n",
       "  </tbody>\n",
       "</table>\n",
       "</div>"
      ],
      "text/plain": [
       "         category                                            article  \\\n",
       "27662        ስፖርት  የኢትዮጵያ እግር ኳስ ፌዴሬሽን ስራ አስፈጻሚ ኮሚቴ አባላት ዛሬ ሰኔ 10...   \n",
       "34492        ስፖርት  ጅማ አባ ቡና ፣ ሙገር ሲሚንቶ እና አአ ከተማ ለኢትዮጵያ ከ20 አመት በ...   \n",
       "25840  ሀገር አቀፍ ዜና  በዝናብ እጥረት ምክንያት የምግብ ዋስትና ችግር ለገጠማቸው ወገኖች በውስን...   \n",
       "14354  ሀገር አቀፍ ዜና  አዲስ አበባ ፣ ህዳር 2 ፣ 2013 (ኤፍ ቢ ሲ) ለመከላከያ ሠራዊት እየ...   \n",
       "28442        ስፖርት  በ10ኛ ሳምንት የኢትዮጵያ ፕሪምየር ሊግ መቐለ ላይ ወልዋሎ እና ኢትዮጵያ...   \n",
       "\n",
       "       category_ID  \n",
       "27662            0  \n",
       "34492            0  \n",
       "25840            1  \n",
       "14354            1  \n",
       "28442            0  "
      ]
     },
     "execution_count": 12,
     "metadata": {},
     "output_type": "execute_result"
    }
   ],
   "source": [
    "#Here you can show that news category’s name with respect to the following unique category ID.\n",
    "data['category_ID'] = data['category'].factorize()[0]\n",
    "data.head()"
   ]
  },
  {
   "cell_type": "markdown",
   "metadata": {
    "id": "Aqsy5Rd5N5I1",
    "outputId": "19780ac3-10ec-433e-ea55-382172156cab"
   },
   "source": [
    "#### The shows the news article count for source from our dataset.\n",
    "data.groupby('category').category_ID.value_counts().plot(kind = \"bar\")\n",
    "#plt.rc('font', family='Lohit Devanagari')\n",
    "#data.encode('utf8')\n",
    "plt.xlabel(\"Source category of data\")\n",
    "plt.rc('font', family='Lohit Devanagari')\n",
    "plt.ylabel(\"Count\")\n",
    "plt.title(\"Visulaize numbers of Source of data\")\n",
    "plt.show()"
   ]
  },
  {
   "cell_type": "code",
   "execution_count": 14,
   "metadata": {
    "id": "B-4gsG0uN5I9"
   },
   "outputs": [
    {
     "data": {
      "text/html": [
       "<div>\n",
       "<style scoped>\n",
       "    .dataframe tbody tr th:only-of-type {\n",
       "        vertical-align: middle;\n",
       "    }\n",
       "\n",
       "    .dataframe tbody tr th {\n",
       "        vertical-align: top;\n",
       "    }\n",
       "\n",
       "    .dataframe thead th {\n",
       "        text-align: right;\n",
       "    }\n",
       "</style>\n",
       "<table border=\"1\" class=\"dataframe\">\n",
       "  <thead>\n",
       "    <tr style=\"text-align: right;\">\n",
       "      <th></th>\n",
       "      <th>category</th>\n",
       "      <th>article</th>\n",
       "      <th>category_ID</th>\n",
       "      <th>word_len</th>\n",
       "    </tr>\n",
       "  </thead>\n",
       "  <tbody>\n",
       "    <tr>\n",
       "      <th>27662</th>\n",
       "      <td>ስፖርት</td>\n",
       "      <td>የኢትዮጵያ እግር ኳስ ፌዴሬሽን ስራ አስፈጻሚ ኮሚቴ አባላት ዛሬ ሰኔ 10...</td>\n",
       "      <td>0</td>\n",
       "      <td>338</td>\n",
       "    </tr>\n",
       "    <tr>\n",
       "      <th>34492</th>\n",
       "      <td>ስፖርት</td>\n",
       "      <td>ጅማ አባ ቡና ፣ ሙገር ሲሚንቶ እና አአ ከተማ ለኢትዮጵያ ከ20 አመት በ...</td>\n",
       "      <td>0</td>\n",
       "      <td>112</td>\n",
       "    </tr>\n",
       "    <tr>\n",
       "      <th>25840</th>\n",
       "      <td>ሀገር አቀፍ ዜና</td>\n",
       "      <td>በዝናብ እጥረት ምክንያት የምግብ ዋስትና ችግር ለገጠማቸው ወገኖች በውስን...</td>\n",
       "      <td>1</td>\n",
       "      <td>264</td>\n",
       "    </tr>\n",
       "    <tr>\n",
       "      <th>14354</th>\n",
       "      <td>ሀገር አቀፍ ዜና</td>\n",
       "      <td>አዲስ አበባ ፣ ህዳር 2 ፣ 2013 (ኤፍ ቢ ሲ) ለመከላከያ ሠራዊት እየ...</td>\n",
       "      <td>1</td>\n",
       "      <td>96</td>\n",
       "    </tr>\n",
       "    <tr>\n",
       "      <th>28442</th>\n",
       "      <td>ስፖርት</td>\n",
       "      <td>በ10ኛ ሳምንት የኢትዮጵያ ፕሪምየር ሊግ መቐለ ላይ ወልዋሎ እና ኢትዮጵያ...</td>\n",
       "      <td>0</td>\n",
       "      <td>464</td>\n",
       "    </tr>\n",
       "  </tbody>\n",
       "</table>\n",
       "</div>"
      ],
      "text/plain": [
       "         category                                            article  \\\n",
       "27662        ስፖርት  የኢትዮጵያ እግር ኳስ ፌዴሬሽን ስራ አስፈጻሚ ኮሚቴ አባላት ዛሬ ሰኔ 10...   \n",
       "34492        ስፖርት  ጅማ አባ ቡና ፣ ሙገር ሲሚንቶ እና አአ ከተማ ለኢትዮጵያ ከ20 አመት በ...   \n",
       "25840  ሀገር አቀፍ ዜና  በዝናብ እጥረት ምክንያት የምግብ ዋስትና ችግር ለገጠማቸው ወገኖች በውስን...   \n",
       "14354  ሀገር አቀፍ ዜና  አዲስ አበባ ፣ ህዳር 2 ፣ 2013 (ኤፍ ቢ ሲ) ለመከላከያ ሠራዊት እየ...   \n",
       "28442        ስፖርት  በ10ኛ ሳምንት የኢትዮጵያ ፕሪምየር ሊግ መቐለ ላይ ወልዋሎ እና ኢትዮጵያ...   \n",
       "\n",
       "       category_ID  word_len  \n",
       "27662            0       338  \n",
       "34492            0       112  \n",
       "25840            1       264  \n",
       "14354            1        96  \n",
       "28442            0       464  "
      ]
     },
     "execution_count": 14,
     "metadata": {},
     "output_type": "execute_result"
    }
   ],
   "source": [
    "#Display the word length of text exist in article column and put in word_len column\n",
    "data['word_len'] = data['article'].str.split().str.len()\n",
    "data.head()"
   ]
  },
  {
   "cell_type": "markdown",
   "metadata": {
    "id": "EJZ8tlleN5JD"
   },
   "source": [
    "# Removing the special characters and Punctuations"
   ]
  },
  {
   "cell_type": "code",
   "execution_count": 15,
   "metadata": {
    "id": "fFHwExWLN5JF"
   },
   "outputs": [],
   "source": [
    "#Removing the special characters and Punctuationswhich  either the word or the whitespace group.\n",
    "data['article'] = data['article'].str.replace('[^\\w\\s]','')"
   ]
  },
  {
   "cell_type": "markdown",
   "metadata": {
    "id": "tnOye9oNN5JH"
   },
   "source": [
    "# character level normalization\n",
    "\n",
    "Amharic has characters wich have the same sound that can be interchangably used.\n",
    "\n",
    "for example letters 'ሃ','ኅ','ኃ','ሐ','ሓ','ኻ','ሀ' have the same sound so we change them to 'ሀ' "
   ]
  },
  {
   "cell_type": "code",
   "execution_count": 16,
   "metadata": {
    "id": "B1QbK3nXN5JJ"
   },
   "outputs": [],
   "source": [
    "#method to normalize character level missmatch such as ጸሀይ and ፀሐይ\n",
    "def normalize_char_level_missmatch(input_token):\n",
    "    rep1=re.sub('[ሃኅኃሐሓኻ]','ሀ',input_token)\n",
    "    rep2=re.sub('[ሑኁዅ]','ሁ',rep1)\n",
    "    rep3=re.sub('[ኂሒኺ]','ሂ',rep2)\n",
    "    rep4=re.sub('[ኌሔዄ]','ሄ',rep3)\n",
    "    rep5=re.sub('[ሕኅ]','ህ',rep4)\n",
    "    rep6=re.sub('[ኆሖኾ]','ሆ',rep5)\n",
    "    rep7=re.sub('[ሠ]','ሰ',rep6)\n",
    "    rep8=re.sub('[ሡ]','ሱ',rep7)\n",
    "    rep9=re.sub('[ሢ]','ሲ',rep8)\n",
    "    rep10=re.sub('[ሣ]','ሳ',rep9)\n",
    "    rep11=re.sub('[ሤ]','ሴ',rep10)\n",
    "    rep12=re.sub('[ሥ]','ስ',rep11)\n",
    "    rep13=re.sub('[ሦ]','ሶ',rep12)\n",
    "    rep14=re.sub('[ዓኣዐ]','አ',rep13)\n",
    "    rep15=re.sub('[ዑ]','ኡ',rep14)\n",
    "    rep16=re.sub('[ዒ]','ኢ',rep15)\n",
    "    rep17=re.sub('[ዔ]','ኤ',rep16)\n",
    "    rep18=re.sub('[ዕ]','እ',rep17)\n",
    "    rep19=re.sub('[ዖ]','ኦ',rep18)\n",
    "    rep20=re.sub('[ጸ]','ፀ',rep19)\n",
    "    rep21=re.sub('[ጹ]','ፁ',rep20)\n",
    "    rep22=re.sub('[ጺ]','ፂ',rep21)\n",
    "    rep23=re.sub('[ጻ]','ፃ',rep22)\n",
    "    rep24=re.sub('[ጼ]','ፄ',rep23)\n",
    "    rep25=re.sub('[ጽ]','ፅ',rep24)\n",
    "    rep26=re.sub('[ጾ]','ፆ',rep25)\n",
    "    #Normalizing words with Labialized Amharic characters such as በልቱዋል or  በልቱአል to  በልቷል  \n",
    "    rep27=re.sub('(ሉ[ዋአ])','ሏ',rep26)\n",
    "    rep28=re.sub('(ሙ[ዋአ])','ሟ',rep27)\n",
    "    rep29=re.sub('(ቱ[ዋአ])','ቷ',rep28)\n",
    "    rep30=re.sub('(ሩ[ዋአ])','ሯ',rep29)\n",
    "    rep31=re.sub('(ሱ[ዋአ])','ሷ',rep30)\n",
    "    rep32=re.sub('(ሹ[ዋአ])','ሿ',rep31)\n",
    "    rep33=re.sub('(ቁ[ዋአ])','ቋ',rep32)\n",
    "    rep34=re.sub('(ቡ[ዋአ])','ቧ',rep33)\n",
    "    rep35=re.sub('(ቹ[ዋአ])','ቿ',rep34)\n",
    "    rep36=re.sub('(ሁ[ዋአ])','ኋ',rep35)\n",
    "    rep37=re.sub('(ኑ[ዋአ])','ኗ',rep36)\n",
    "    rep38=re.sub('(ኙ[ዋአ])','ኟ',rep37)\n",
    "    rep39=re.sub('(ኩ[ዋአ])','ኳ',rep38)\n",
    "    rep40=re.sub('(ዙ[ዋአ])','ዟ',rep39)\n",
    "    rep41=re.sub('(ጉ[ዋአ])','ጓ',rep40)\n",
    "    rep42=re.sub('(ደ[ዋአ])','ዷ',rep41)\n",
    "    rep43=re.sub('(ጡ[ዋአ])','ጧ',rep42)\n",
    "    rep44=re.sub('(ጩ[ዋአ])','ጯ',rep43)\n",
    "    rep45=re.sub('(ጹ[ዋአ])','ጿ',rep44)\n",
    "    rep46=re.sub('(ፉ[ዋአ])','ፏ',rep45)\n",
    "    rep47=re.sub('[ቊ]','ቁ',rep46) #ቁ can be written as ቊ\n",
    "    rep48=re.sub('[ኵ]','ኩ',rep47) #ኩ can be also written as ኵ  \n",
    "    return rep48\n"
   ]
  },
  {
   "cell_type": "code",
   "execution_count": 17,
   "metadata": {
    "id": "4avULphyN5JM"
   },
   "outputs": [],
   "source": [
    "#Applying the the normalization Function\n",
    "data['article'] = data['article'].apply(lambda x: normalize_char_level_missmatch(x))"
   ]
  },
  {
   "cell_type": "markdown",
   "metadata": {
    "id": "bQW5eItVN5JR"
   },
   "source": [
    "\n",
    "\n",
    "# Feature  Engineering and Balancing a data"
   ]
  },
  {
   "cell_type": "code",
   "execution_count": 18,
   "metadata": {},
   "outputs": [],
   "source": [
    " #n_data.head(5).to_csv('table.csv')"
   ]
  },
  {
   "cell_type": "code",
   "execution_count": 19,
   "metadata": {
    "id": "vklx8pLLN5JS"
   },
   "outputs": [],
   "source": [
    "#n_data = data[['article','Source']]\n",
    "text,label = data['article'],data['category']\n",
    "#n_data = data[['article','category']]\n",
    "#n_data.head()\n",
    "#text,label = data['article'].values,data['category'].values"
   ]
  },
  {
   "cell_type": "code",
   "execution_count": 20,
   "metadata": {
    "id": "Fq5oTUAjN5JU",
    "outputId": "8e75d970-70d8-4667-8db0-1fefe45b37d4"
   },
   "outputs": [
    {
     "data": {
      "text/plain": [
       "array([[0, 0, 0, ..., 0, 0, 0],\n",
       "       [0, 0, 0, ..., 0, 0, 1],\n",
       "       [0, 0, 0, ..., 0, 0, 0],\n",
       "       ...,\n",
       "       [1, 0, 0, ..., 0, 0, 0],\n",
       "       [0, 0, 1, ..., 0, 0, 0],\n",
       "       [0, 0, 0, ..., 0, 0, 0]], dtype=int64)"
      ]
     },
     "execution_count": 20,
     "metadata": {},
     "output_type": "execute_result"
    }
   ],
   "source": [
    "#Extracting feature using countvectorizer\n",
    "from sklearn.feature_extraction.text import CountVectorizer\n",
    "matrix = CountVectorizer(analyzer='word',max_features=1000,ngram_range=(1, 3))\n",
    "Z = matrix.fit_transform(text).toarray()\n",
    "Z"
   ]
  },
  {
   "cell_type": "code",
   "execution_count": 21,
   "metadata": {
    "id": "zV-CHBNoN5Jr",
    "outputId": "02dad6fa-6034-48e4-a36b-f022150ab31a"
   },
   "outputs": [
    {
     "data": {
      "text/plain": [
       "array([[0.        , 0.        , 0.        , ..., 0.        , 0.        ,\n",
       "        0.        ],\n",
       "       [0.        , 0.        , 0.        , ..., 0.        , 0.        ,\n",
       "        0.09170168],\n",
       "       [0.        , 0.        , 0.        , ..., 0.        , 0.        ,\n",
       "        0.        ],\n",
       "       ...,\n",
       "       [0.07662264, 0.        , 0.        , ..., 0.        , 0.        ,\n",
       "        0.        ],\n",
       "       [0.        , 0.        , 0.13968173, ..., 0.        , 0.        ,\n",
       "        0.        ],\n",
       "       [0.        , 0.        , 0.        , ..., 0.        , 0.        ,\n",
       "        0.        ]])"
      ]
     },
     "execution_count": 21,
     "metadata": {},
     "output_type": "execute_result"
    }
   ],
   "source": [
    "#Extracting feature using TF-IDF\n",
    "from sklearn.feature_extraction.text import TfidfVectorizer\n",
    "matrix = TfidfVectorizer(analyzer='word',max_features=1000,ngram_range=(1, 3))\n",
    "X = matrix.fit_transform(text).toarray()\n",
    "X"
   ]
  },
  {
   "cell_type": "markdown",
   "metadata": {
    "id": "Ge3yU_lMN5Jv"
   },
   "source": [
    "# Split the data in Training and testing"
   ]
  },
  {
   "cell_type": "code",
   "execution_count": 22,
   "metadata": {
    "id": "gFAJfSkeN5Jw"
   },
   "outputs": [],
   "source": [
    "#from sklearn.model_selection import train_test_split\n",
    "#X_train, X_test, y_train, y_test = train_test_split(X, label,test_size=0.2,random_state=42)"
   ]
  },
  {
   "cell_type": "code",
   "execution_count": 23,
   "metadata": {
    "id": "U8g1R1AdN5Jy"
   },
   "outputs": [],
   "source": [
    "from sklearn.model_selection import train_test_split\n",
    "X_train, X_test, y_train, y_test = train_test_split(X, label,test_size=0.2,random_state=42)"
   ]
  },
  {
   "cell_type": "code",
   "execution_count": 24,
   "metadata": {
    "id": "zDKH0H4ySZ_I"
   },
   "outputs": [
    {
     "name": "stdout",
     "output_type": "stream",
     "text": [
      "All data (51343,)\n",
      "Trained data (41074, 1000)\n",
      "Test data (10269, 1000)\n"
     ]
    }
   ],
   "source": [
    "print('All data',data['article'].shape)\n",
    "print('Trained data', X_train.shape)\n",
    "print('Test data', X_test.shape)\n",
    "#print(y_test)"
   ]
  },
  {
   "cell_type": "code",
   "execution_count": 25,
   "metadata": {
    "id": "FDyK4FuNSnTc"
   },
   "outputs": [],
   "source": [
    "from imblearn.over_sampling import SMOTE\n",
    "# transform the dataset\n",
    "xBalanced, yBalanced = SMOTE().fit_resample(X_train, y_train)"
   ]
  },
  {
   "cell_type": "code",
   "execution_count": 26,
   "metadata": {
    "id": "ML-_l7R-TG60",
    "scrolled": true
   },
   "outputs": [
    {
     "name": "stdout",
     "output_type": "stream",
     "text": [
      "ሀገር አቀፍ ዜና    16529\n",
      "ዓለም አቀፍ ዜና    16529\n",
      "ፖለቲካ          16529\n",
      "ስፖርት          16529\n",
      "ቢዝነስ          16529\n",
      "መዝናኛ          16529\n",
      "Name: category, dtype: int64\n"
     ]
    },
    {
     "data": {
      "text/plain": [
       "<Axes: >"
      ]
     },
     "execution_count": 26,
     "metadata": {},
     "output_type": "execute_result"
    },
    {
     "name": "stderr",
     "output_type": "stream",
     "text": [
      "findfont: Font family 'Lohit Devanagari' not found.\n",
      "findfont: Font family 'Lohit Devanagari' not found.\n",
      "findfont: Font family 'Lohit Devanagari' not found.\n",
      "findfont: Font family 'Lohit Devanagari' not found.\n",
      "findfont: Font family 'Lohit Devanagari' not found.\n",
      "findfont: Font family 'Lohit Devanagari' not found.\n",
      "findfont: Font family 'Lohit Devanagari' not found.\n",
      "findfont: Font family 'Lohit Devanagari' not found.\n",
      "findfont: Font family 'Lohit Devanagari' not found.\n",
      "findfont: Font family 'Lohit Devanagari' not found.\n",
      "findfont: Font family 'Lohit Devanagari' not found.\n",
      "findfont: Font family 'Lohit Devanagari' not found.\n",
      "findfont: Font family 'Lohit Devanagari' not found.\n",
      "findfont: Font family 'Lohit Devanagari' not found.\n",
      "findfont: Font family 'Lohit Devanagari' not found.\n",
      "findfont: Font family 'Lohit Devanagari' not found.\n",
      "findfont: Font family 'Lohit Devanagari' not found.\n",
      "findfont: Font family 'Lohit Devanagari' not found.\n",
      "findfont: Font family 'Lohit Devanagari' not found.\n",
      "findfont: Font family 'Lohit Devanagari' not found.\n",
      "findfont: Font family 'Lohit Devanagari' not found.\n",
      "findfont: Font family 'Lohit Devanagari' not found.\n",
      "findfont: Font family 'Lohit Devanagari' not found.\n",
      "findfont: Font family 'Lohit Devanagari' not found.\n",
      "findfont: Font family 'Lohit Devanagari' not found.\n",
      "findfont: Font family 'Lohit Devanagari' not found.\n",
      "findfont: Font family 'Lohit Devanagari' not found.\n",
      "findfont: Font family 'Lohit Devanagari' not found.\n",
      "findfont: Font family 'Lohit Devanagari' not found.\n",
      "findfont: Font family 'Lohit Devanagari' not found.\n",
      "findfont: Font family 'Lohit Devanagari' not found.\n",
      "findfont: Font family 'Lohit Devanagari' not found.\n",
      "findfont: Font family 'Lohit Devanagari' not found.\n",
      "findfont: Font family 'Lohit Devanagari' not found.\n",
      "findfont: Font family 'Lohit Devanagari' not found.\n",
      "findfont: Font family 'Lohit Devanagari' not found.\n",
      "findfont: Font family 'Lohit Devanagari' not found.\n",
      "findfont: Font family 'Lohit Devanagari' not found.\n",
      "findfont: Font family 'Lohit Devanagari' not found.\n",
      "findfont: Font family 'Lohit Devanagari' not found.\n",
      "findfont: Font family 'Lohit Devanagari' not found.\n",
      "findfont: Font family 'Lohit Devanagari' not found.\n",
      "findfont: Font family 'Lohit Devanagari' not found.\n",
      "findfont: Font family 'Lohit Devanagari' not found.\n",
      "findfont: Font family 'Lohit Devanagari' not found.\n",
      "findfont: Font family 'Lohit Devanagari' not found.\n",
      "findfont: Font family 'Lohit Devanagari' not found.\n",
      "findfont: Font family 'Lohit Devanagari' not found.\n",
      "findfont: Font family 'Lohit Devanagari' not found.\n",
      "findfont: Font family 'Lohit Devanagari' not found.\n",
      "findfont: Font family 'Lohit Devanagari' not found.\n",
      "findfont: Font family 'Lohit Devanagari' not found.\n",
      "findfont: Font family 'Lohit Devanagari' not found.\n",
      "findfont: Font family 'Lohit Devanagari' not found.\n",
      "findfont: Font family 'Lohit Devanagari' not found.\n",
      "findfont: Font family 'Lohit Devanagari' not found.\n",
      "findfont: Font family 'Lohit Devanagari' not found.\n",
      "findfont: Font family 'Lohit Devanagari' not found.\n",
      "findfont: Font family 'Lohit Devanagari' not found.\n",
      "findfont: Font family 'Lohit Devanagari' not found.\n",
      "findfont: Font family 'Lohit Devanagari' not found.\n",
      "findfont: Font family 'Lohit Devanagari' not found.\n"
     ]
    },
    {
     "data": {
      "image/png": "[encoded data removed]",
      "text/plain": [
       "<Figure size 640x480 with 1 Axes>"
      ]
     },
     "metadata": {},
     "output_type": "display_data"
    }
   ],
   "source": [
    "print(yBalanced.value_counts())\n",
    "yBalanced.value_counts().plot(kind=\"bar\")"
   ]
  },
  {
   "cell_type": "code",
   "execution_count": 27,
   "metadata": {},
   "outputs": [
    {
     "data": {
      "text/plain": [
       "(99174,)"
      ]
     },
     "execution_count": 27,
     "metadata": {},
     "output_type": "execute_result"
    }
   ],
   "source": [
    "yBalanced.shape"
   ]
  },
  {
   "cell_type": "markdown",
   "metadata": {
    "id": "LqtomCCsN5J0"
   },
   "source": [
    "# Confusion Matrix Function"
   ]
  },
  {
   "cell_type": "code",
   "execution_count": 29,
   "metadata": {
    "id": "SX169jFVN5J1"
   },
   "outputs": [],
   "source": [
    "# Function to plot the confusion matrix \n",
    "def plot_confusion_matrix(cm, classes,\n",
    "                          normalize=False,\n",
    "                          title='Confusion matrix',\n",
    "                          cmap=plt.cm.Greens):\n",
    "    plt.figure(figsize=(20, 10))\n",
    "    plt.imshow(cm, interpolation='nearest', cmap=cmap)\n",
    "    plt.title(title)\n",
    "    plt.colorbar()\n",
    "    tick_marks = np.arange(len(classes))\n",
    "    plt.xticks(tick_marks, classes, rotation=45)\n",
    "    plt.yticks(tick_marks, classes)\n",
    "\n",
    "    if normalize:\n",
    "       cm = cm.astype('float') / cm.sum(axis=1)[:, np.newaxis]\n",
    "    else:\n",
    "         'Confusion matrix, without normalization'\n",
    "\n",
    "    thresh = cm.max() / 2.\n",
    "    for i, j in itertools.product(range(cm.shape[0]), range(cm.shape[1])):\n",
    "        plt.text(j, i, cm[i, j],\n",
    "                 horizontalalignment=\"center\",\n",
    "                 color=\"white\" if cm[i, j] > thresh else \"black\")\n",
    "\n",
    "    plt.tight_layout()\n",
    "    #plt.rc('font', family='Lohit Devanagari')\n",
    "    plt.ylabel('Actual label')\n",
    "    plt.xlabel('Predicted label')"
   ]
  },
  {
   "cell_type": "markdown",
   "metadata": {
    "id": "Xwxn6g0KN5J4"
   },
   "source": [
    "# Applying Gaussian Naive Bayes Algorithms"
   ]
  },
  {
   "cell_type": "code",
   "execution_count": 30,
   "metadata": {},
   "outputs": [],
   "source": [
    "uni=data.category.unique()"
   ]
  },
  {
   "cell_type": "code",
   "execution_count": 31,
   "metadata": {
    "id": "rm4nHRb9N5J5"
   },
   "outputs": [
    {
     "name": "stdout",
     "output_type": "stream",
     "text": [
      "Accuracy: 69.46%\n",
      "              precision    recall  f1-score   support\n",
      "\n",
      "        ስፖርት       0.80      0.57      0.67      4136\n",
      "  ሀገር አቀፍ ዜና       0.32      0.76      0.45       148\n",
      "        ፖለቲካ       0.98      0.93      0.95      2125\n",
      "        ቢዝነስ       0.44      0.67      0.53       770\n",
      "  ዓለም አቀፍ ዜና       0.66      0.71      0.69      1260\n",
      "        መዝናኛ       0.53      0.69      0.60      1830\n",
      "\n",
      "    accuracy                           0.69     10269\n",
      "   macro avg       0.62      0.72      0.65     10269\n",
      "weighted avg       0.74      0.69      0.70     10269\n",
      "\n"
     ]
    }
   ],
   "source": [
    "from sklearn.naive_bayes import GaussianNB\n",
    "model = GaussianNB()\n",
    "model.fit(xBalanced, yBalanced)\n",
    "model_predictions = model.predict(X_test)\n",
    "print(\"Accuracy: {}%\".format(round(accuracy_score(y_test, model_predictions)*100,2)))\n",
    "print(classification_report(y_test, model_predictions,target_names=uni))"
   ]
  },
  {
   "cell_type": "code",
   "execution_count": 32,
   "metadata": {
    "id": "UvXDwgq_N5J7",
    "scrolled": true
   },
   "outputs": [
    {
     "name": "stderr",
     "output_type": "stream",
     "text": [
      "findfont: Font family 'Lohit Devanagari' not found.\n",
      "findfont: Font family 'Lohit Devanagari' not found.\n",
      "findfont: Font family 'Lohit Devanagari' not found.\n",
      "findfont: Font family 'Lohit Devanagari' not found.\n",
      "findfont: Font family 'Lohit Devanagari' not found.\n",
      "findfont: Font family 'Lohit Devanagari' not found.\n",
      "findfont: Font family 'Lohit Devanagari' not found.\n",
      "findfont: Font family 'Lohit Devanagari' not found.\n",
      "findfont: Font family 'Lohit Devanagari' not found.\n",
      "findfont: Font family 'Lohit Devanagari' not found.\n",
      "findfont: Font family 'Lohit Devanagari' not found.\n",
      "findfont: Font family 'Lohit Devanagari' not found.\n",
      "findfont: Font family 'Lohit Devanagari' not found.\n",
      "findfont: Font family 'Lohit Devanagari' not found.\n",
      "findfont: Font family 'Lohit Devanagari' not found.\n",
      "findfont: Font family 'Lohit Devanagari' not found.\n",
      "findfont: Font family 'Lohit Devanagari' not found.\n",
      "findfont: Font family 'Lohit Devanagari' not found.\n",
      "findfont: Font family 'Lohit Devanagari' not found.\n",
      "findfont: Font family 'Lohit Devanagari' not found.\n",
      "findfont: Font family 'Lohit Devanagari' not found.\n",
      "findfont: Font family 'Lohit Devanagari' not found.\n",
      "findfont: Font family 'Lohit Devanagari' not found.\n",
      "findfont: Font family 'Lohit Devanagari' not found.\n",
      "findfont: Font family 'Lohit Devanagari' not found.\n",
      "findfont: Font family 'Lohit Devanagari' not found.\n",
      "findfont: Font family 'Lohit Devanagari' not found.\n",
      "findfont: Font family 'Lohit Devanagari' not found.\n",
      "findfont: Font family 'Lohit Devanagari' not found.\n",
      "findfont: Font family 'Lohit Devanagari' not found.\n",
      "findfont: Font family 'Lohit Devanagari' not found.\n",
      "findfont: Font family 'Lohit Devanagari' not found.\n",
      "findfont: Font family 'Lohit Devanagari' not found.\n",
      "findfont: Font family 'Lohit Devanagari' not found.\n",
      "findfont: Font family 'Lohit Devanagari' not found.\n",
      "findfont: Font family 'Lohit Devanagari' not found.\n",
      "findfont: Font family 'Lohit Devanagari' not found.\n",
      "findfont: Font family 'Lohit Devanagari' not found.\n",
      "findfont: Font family 'Lohit Devanagari' not found.\n",
      "findfont: Font family 'Lohit Devanagari' not found.\n",
      "findfont: Font family 'Lohit Devanagari' not found.\n",
      "findfont: Font family 'Lohit Devanagari' not found.\n",
      "findfont: Font family 'Lohit Devanagari' not found.\n",
      "findfont: Font family 'Lohit Devanagari' not found.\n",
      "findfont: Font family 'Lohit Devanagari' not found.\n",
      "findfont: Font family 'Lohit Devanagari' not found.\n",
      "findfont: Font family 'Lohit Devanagari' not found.\n",
      "findfont: Font family 'Lohit Devanagari' not found.\n",
      "findfont: Font family 'Lohit Devanagari' not found.\n",
      "findfont: Font family 'Lohit Devanagari' not found.\n",
      "findfont: Font family 'Lohit Devanagari' not found.\n",
      "findfont: Font family 'Lohit Devanagari' not found.\n",
      "findfont: Font family 'Lohit Devanagari' not found.\n",
      "findfont: Font family 'Lohit Devanagari' not found.\n",
      "findfont: Font family 'Lohit Devanagari' not found.\n",
      "findfont: Font family 'Lohit Devanagari' not found.\n",
      "findfont: Font family 'Lohit Devanagari' not found.\n",
      "findfont: Font family 'Lohit Devanagari' not found.\n",
      "findfont: Font family 'Lohit Devanagari' not found.\n",
      "findfont: Font family 'Lohit Devanagari' not found.\n",
      "findfont: Font family 'Lohit Devanagari' not found.\n",
      "findfont: Font family 'Lohit Devanagari' not found.\n",
      "findfont: Font family 'Lohit Devanagari' not found.\n",
      "findfont: Font family 'Lohit Devanagari' not found.\n",
      "findfont: Font family 'Lohit Devanagari' not found.\n",
      "findfont: Font family 'Lohit Devanagari' not found.\n",
      "findfont: Font family 'Lohit Devanagari' not found.\n",
      "findfont: Font family 'Lohit Devanagari' not found.\n",
      "findfont: Font family 'Lohit Devanagari' not found.\n",
      "findfont: Font family 'Lohit Devanagari' not found.\n",
      "findfont: Font family 'Lohit Devanagari' not found.\n",
      "findfont: Font family 'Lohit Devanagari' not found.\n",
      "findfont: Font family 'Lohit Devanagari' not found.\n",
      "findfont: Font family 'Lohit Devanagari' not found.\n",
      "findfont: Font family 'Lohit Devanagari' not found.\n",
      "findfont: Font family 'Lohit Devanagari' not found.\n",
      "findfont: Font family 'Lohit Devanagari' not found.\n",
      "findfont: Font family 'Lohit Devanagari' not found.\n",
      "findfont: Font family 'Lohit Devanagari' not found.\n",
      "findfont: Font family 'Lohit Devanagari' not found.\n",
      "findfont: Font family 'Lohit Devanagari' not found.\n",
      "findfont: Font family 'Lohit Devanagari' not found.\n",
      "findfont: Font family 'Lohit Devanagari' not found.\n",
      "findfont: Font family 'Lohit Devanagari' not found.\n",
      "findfont: Font family 'Lohit Devanagari' not found.\n",
      "findfont: Font family 'Lohit Devanagari' not found.\n",
      "findfont: Font family 'Lohit Devanagari' not found.\n",
      "findfont: Font family 'Lohit Devanagari' not found.\n",
      "findfont: Font family 'Lohit Devanagari' not found.\n",
      "findfont: Font family 'Lohit Devanagari' not found.\n",
      "findfont: Font family 'Lohit Devanagari' not found.\n",
      "findfont: Font family 'Lohit Devanagari' not found.\n",
      "findfont: Font family 'Lohit Devanagari' not found.\n",
      "findfont: Font family 'Lohit Devanagari' not found.\n",
      "findfont: Font family 'Lohit Devanagari' not found.\n",
      "findfont: Font family 'Lohit Devanagari' not found.\n",
      "findfont: Font family 'Lohit Devanagari' not found.\n",
      "findfont: Font family 'Lohit Devanagari' not found.\n",
      "findfont: Font family 'Lohit Devanagari' not found.\n",
      "findfont: Font family 'Lohit Devanagari' not found.\n",
      "findfont: Font family 'Lohit Devanagari' not found.\n",
      "findfont: Font family 'Lohit Devanagari' not found.\n",
      "findfont: Font family 'Lohit Devanagari' not found.\n",
      "findfont: Font family 'Lohit Devanagari' not found.\n",
      "findfont: Font family 'Lohit Devanagari' not found.\n",
      "findfont: Font family 'Lohit Devanagari' not found.\n",
      "findfont: Font family 'Lohit Devanagari' not found.\n",
      "findfont: Font family 'Lohit Devanagari' not found.\n",
      "findfont: Font family 'Lohit Devanagari' not found.\n",
      "findfont: Font family 'Lohit Devanagari' not found.\n",
      "findfont: Font family 'Lohit Devanagari' not found.\n",
      "findfont: Font family 'Lohit Devanagari' not found.\n",
      "findfont: Font family 'Lohit Devanagari' not found.\n",
      "findfont: Font family 'Lohit Devanagari' not found.\n",
      "findfont: Font family 'Lohit Devanagari' not found.\n",
      "findfont: Font family 'Lohit Devanagari' not found.\n",
      "findfont: Font family 'Lohit Devanagari' not found.\n",
      "findfont: Font family 'Lohit Devanagari' not found.\n",
      "findfont: Font family 'Lohit Devanagari' not found.\n",
      "findfont: Font family 'Lohit Devanagari' not found.\n",
      "findfont: Font family 'Lohit Devanagari' not found.\n",
      "findfont: Font family 'Lohit Devanagari' not found.\n",
      "findfont: Font family 'Lohit Devanagari' not found.\n",
      "findfont: Font family 'Lohit Devanagari' not found.\n",
      "findfont: Font family 'Lohit Devanagari' not found.\n",
      "findfont: Font family 'Lohit Devanagari' not found.\n",
      "findfont: Font family 'Lohit Devanagari' not found.\n",
      "findfont: Font family 'Lohit Devanagari' not found.\n",
      "findfont: Font family 'Lohit Devanagari' not found.\n",
      "findfont: Font family 'Lohit Devanagari' not found.\n",
      "findfont: Font family 'Lohit Devanagari' not found.\n",
      "findfont: Font family 'Lohit Devanagari' not found.\n",
      "findfont: Font family 'Lohit Devanagari' not found.\n",
      "findfont: Font family 'Lohit Devanagari' not found.\n",
      "findfont: Font family 'Lohit Devanagari' not found.\n",
      "findfont: Font family 'Lohit Devanagari' not found.\n",
      "findfont: Font family 'Lohit Devanagari' not found.\n",
      "findfont: Font family 'Lohit Devanagari' not found.\n",
      "findfont: Font family 'Lohit Devanagari' not found.\n",
      "findfont: Font family 'Lohit Devanagari' not found.\n",
      "findfont: Font family 'Lohit Devanagari' not found.\n",
      "findfont: Font family 'Lohit Devanagari' not found.\n",
      "findfont: Font family 'Lohit Devanagari' not found.\n",
      "findfont: Font family 'Lohit Devanagari' not found.\n",
      "findfont: Font family 'Lohit Devanagari' not found.\n",
      "findfont: Font family 'Lohit Devanagari' not found.\n",
      "findfont: Font family 'Lohit Devanagari' not found.\n",
      "findfont: Font family 'Lohit Devanagari' not found.\n",
      "findfont: Font family 'Lohit Devanagari' not found.\n",
      "findfont: Font family 'Lohit Devanagari' not found.\n",
      "findfont: Font family 'Lohit Devanagari' not found.\n",
      "findfont: Font family 'Lohit Devanagari' not found.\n",
      "findfont: Font family 'Lohit Devanagari' not found.\n",
      "findfont: Font family 'Lohit Devanagari' not found.\n",
      "findfont: Font family 'Lohit Devanagari' not found.\n",
      "findfont: Font family 'Lohit Devanagari' not found.\n",
      "findfont: Font family 'Lohit Devanagari' not found.\n",
      "findfont: Font family 'Lohit Devanagari' not found.\n"
     ]
    },
    {
     "name": "stderr",
     "output_type": "stream",
     "text": [
      "findfont: Font family 'Lohit Devanagari' not found.\n",
      "findfont: Font family 'Lohit Devanagari' not found.\n",
      "findfont: Font family 'Lohit Devanagari' not found.\n",
      "findfont: Font family 'Lohit Devanagari' not found.\n",
      "findfont: Font family 'Lohit Devanagari' not found.\n",
      "findfont: Font family 'Lohit Devanagari' not found.\n",
      "findfont: Font family 'Lohit Devanagari' not found.\n",
      "findfont: Font family 'Lohit Devanagari' not found.\n",
      "findfont: Font family 'Lohit Devanagari' not found.\n",
      "findfont: Font family 'Lohit Devanagari' not found.\n",
      "findfont: Font family 'Lohit Devanagari' not found.\n",
      "findfont: Font family 'Lohit Devanagari' not found.\n",
      "findfont: Font family 'Lohit Devanagari' not found.\n",
      "findfont: Font family 'Lohit Devanagari' not found.\n",
      "findfont: Font family 'Lohit Devanagari' not found.\n",
      "findfont: Font family 'Lohit Devanagari' not found.\n",
      "findfont: Font family 'Lohit Devanagari' not found.\n",
      "findfont: Font family 'Lohit Devanagari' not found.\n",
      "findfont: Font family 'Lohit Devanagari' not found.\n",
      "findfont: Font family 'Lohit Devanagari' not found.\n",
      "findfont: Font family 'Lohit Devanagari' not found.\n",
      "findfont: Font family 'Lohit Devanagari' not found.\n",
      "findfont: Font family 'Lohit Devanagari' not found.\n",
      "findfont: Font family 'Lohit Devanagari' not found.\n",
      "findfont: Font family 'Lohit Devanagari' not found.\n",
      "findfont: Font family 'Lohit Devanagari' not found.\n",
      "findfont: Font family 'Lohit Devanagari' not found.\n",
      "findfont: Font family 'Lohit Devanagari' not found.\n",
      "findfont: Font family 'Lohit Devanagari' not found.\n",
      "findfont: Font family 'Lohit Devanagari' not found.\n",
      "findfont: Font family 'Lohit Devanagari' not found.\n",
      "findfont: Font family 'Lohit Devanagari' not found.\n",
      "findfont: Font family 'Lohit Devanagari' not found.\n",
      "findfont: Font family 'Lohit Devanagari' not found.\n",
      "findfont: Font family 'Lohit Devanagari' not found.\n",
      "findfont: Font family 'Lohit Devanagari' not found.\n",
      "findfont: Font family 'Lohit Devanagari' not found.\n",
      "findfont: Font family 'Lohit Devanagari' not found.\n",
      "findfont: Font family 'Lohit Devanagari' not found.\n",
      "findfont: Font family 'Lohit Devanagari' not found.\n",
      "findfont: Font family 'Lohit Devanagari' not found.\n",
      "findfont: Font family 'Lohit Devanagari' not found.\n",
      "findfont: Font family 'Lohit Devanagari' not found.\n",
      "findfont: Font family 'Lohit Devanagari' not found.\n"
     ]
    },
    {
     "data": {
      "image/png": "[encoded data removed]",
      "text/plain": [
       "<Figure size 2000x1000 with 2 Axes>"
      ]
     },
     "metadata": {},
     "output_type": "display_data"
    }
   ],
   "source": [
    "# used to measure the performance of a classifier in depth(i.e Gaussian Naive Bayes). \n",
    "cm = metrics.confusion_matrix(y_test, model_predictions)\n",
    "plot_confusion_matrix(cm, classes=uni)"
   ]
  },
  {
   "cell_type": "code",
   "execution_count": null,
   "metadata": {},
   "outputs": [],
   "source": [
    "#data1 = ['ቦጋለ አበበ የኢትዮጵያ ኦሊምፒክ ኮሚቴ አርባ አምስተኛ መደበኛ ጠቅላላ ጉባዔ ባለፈው እሁድ በሐዋሳ ከተማ ሲያካሂድ የተለያዩ ውሳኔዎች ተላልፈዋል፡፡ ባለፉት አራት ዓመታት ሲያገለግል ቆይቶ ዘንድሮ ይጠናቀቅ የነበረው የኮሚቴው የስራ አስፈፃሚና የፕሬዚዳንት የስልጣን ዘመን በመጪው ክረምት እስከሚካሄደው የቶኪዮ 2020 ኦሊምፒክ ማግስት ድረስ እንዲቀጥል ጉባዔው ወስኗል፡፡ የቶኪዮ 2020 ኦሊምፒክ ባለፈው ዓመት ሊካሄድ የነበረ ቢሆንም በኮቪድ-19 ወረርሽኝ ምክንያት ለአስራ ስድስት ወራት ተራዝሞ በመጪው ክረምት ሊካሄድ ቀን ተቆርጦለታል፡፡ ኮሚቴውን ሲመራ የነበረው ሥራ አስፈፃሚ በኦሊምፒኩ የተሻለ ውጤት ለማስመዝገብ የተለያዩ ዝግጅቶችን ሲያደርግ የቆየ ሲሆን ዘንድሮ የስራ ዘመኑን አጠናቆ በጠቅላላ ጉባዔ ምርጫ ይካሄድ ነበር፡፡ ይሁን እንጂ ኦሊምፒኩ በመራዘሙ ሲዘጋጅ የቆየው ስራ አስፈፃሚ የልፋቱን ውጤት እንዲመለከት እስከ ኦሊምፒኩ ማግስት እንዲቀጥል ጠቅላላ ጉባዔው ውሳኔ አስተላልፏል፡፡ ጉባዔውን በንግግር የከፈቱት የኢትዮጵያ ኦሊምፒክ ኮሚቴ ፕሬዚዳንት ዶክተር አሸብር ወልደጊዮርጊስ፣ ኢትዮጵያ የአኖካን ጉባኤ ባስተናገደችበት ማግስት አስረኛ ክልል ሆኖ እንደ አዲስ በተዋቀረው የሲዳማ ክልል ጉባዔው መካሄዱ ልዩ እንደሚያደርገው ገልፀዋል፡፡ ኢትዮጵያ ለመጀመሪያ ግዜ የአፍሪካ ወጣቶች ኦሊምፒክን በ2022 ለማስተናገድ እድል ባገኘችበት ማግስት በሲዳማ ክልል ዘንድሮ የኢትዮጵያ ወጣቶች ኦሊምፒክ ጨዋታ እንደሚካሄድም ጠቁመዋል፡፡ ኮሚቴው በቶኪዮ 2020 ኦሊምፒክ የአበበ ቢቂላን የ1964 የቶኪዮ ኦሊምፒክ ገድል ለመድገም በምትዘጋጅበት ወቅት ጉባዔውን ማካሄዱና በኮቪድ-19 ስጋት ውስጥ ሆኖ መከናወኑ ጉባዔውን የተለየ እንደሚያደርገውም ተናግረዋል፡፡ የባህልና ቱሪዝም ሚኒስትር ዶክተር ሂሩት ካሳው፣ ስፖርት የማህበራዊና ተፈጥሯዊ ሳይንስ ዘውግ መሆኑን ጠቅሰው ማህበራዊ ትስስርን በእጅጉ የሚፈጥር በመሆኑ ህብረተሰቡ ስፖርትን ባህሉ እንዲያደርግ የተጀመሩ እንቅስቃሴዎች ተጠናክረው መቀጠል እንዳለባቸው መልዕክት አስተላልፈዋል። እስካሁን ድረስ በስፖርት ዘርፍ የተፈጠረው ተወዳዳሪነት ዝቅተኛ መሆኑን በመጥቀስም በአትሌትክስ ስፖርት ኢትዮጵያ ያስመዘገበችው ውጤት በሌሎችም እንዲደገም መሠራት እንዳለበት አብራርተዋል። ሚኒስትሯ የህብረተሰብ ስፖርትንም ለማስፋፋት በትምህርት ቤትና በስራ ቦታ የአካል ብቃት እንቅስቃሴ ላይ ትኩረት ተሰጥቶ መሠራት እንዳለበት ገልፀዋል። የኢፌዲሪ ስፖርት ኮሚሽን ኮሚሸነር ኤሊያስ ሽኩር በበኩላቸው፣ 45ኛው የኢትዮጵያ ኦሊምፒክ ኮሚቴ መደበኛ ጠቅላላ ጉባኤ የተካሄደው በስፖርት ህብረተሰቡ ዘንድ መነቃቃት በተፈጠረበት ወቅትና በብሔራዊ የስፖርት ምክር ቤት መደበኛ አንደኛ ስብሰባ ትላልቅ ውሳኔዎች በተላለፈበት ወቅት መሆኑን አስታውሰዋል፡፡ የአኖካ ጉባኤ በተሳካ ሁኔታ የተካሄደ መሆኑን ጠቅሰውም ሠላማዊና አስተማማኝ ሁኔታ በኢትዮጵያ መኖሩን አኖካ በማረጋገጡ ቀጣይ ስብሰባዎችን በራሱ ሙሉ ወጪ በኢትዮጵያ ለማካሄድ መነሳሳት እንዳሳየ አብራርተዋል። ለቶኪዮ 2020 የተሻለ ውጤት ለማስመዝገብ ዝግጅት ማድረግ በተጀመረበት ወቅት ላይ ጉባዔው በስፖርት ምክር ቤት በተቀመጡ ወሳኔዎችና አቅጣጫዎች መሠረት በጥልቀት መምከር እንዳለበት አስረድተዋል፡፡ ስፖርት ለሠላም፣ ለወዳጅነት፣ ለአንድነት፣ለወንድማማችነትና ለብልፅግና መሆኑን በመገንዘብ ጠቃሚ ውይይት እንዲደረግ አሳስበዋል፡፡ የሲዳማሁን የደቡብ ብሔራዊ ክልላዊ መንግስት ምክትል ፕሬዚዳንት በመሆን እያገለገሉ የሚገኙት አቶ ተስፋየ ይገዙ፣ የቀድሞ የኢፌዴሪ ምክትል ስፖርት ኮሚሽነርና አሁን የኦሮሚያ ክልላዊ መንግስት የኮሙኒኬሽን ቢሮ ኃላፊ የሆኑት አቶ ጌታቸው ባልቻ የእውቅና ሽልማት ከተበረከተላቸው መካከል ዋነኞቹ ናቸው። ጠቅላላ ጉባዔው የ44ኛው መደበኛ ጉባኤ ቃለ ጉባኤ ፣ የ2012 ዓ.ም ዕቅድ አፈፃፀም ሪፖርትና የውጪ ኦዲተር ሪፖርት መርምሮ ያፀደቀ ሲሆን የ2013 ዓ.ም ዕቅድና የኢትዮጵያ ኦሊምፒክ ኮሚቴ ቀጣይ 46ኛ መደበኛ ጠቅላላ ጉባዔን በተመለከተ መክሮ ውሳኔ አስተላልፏል።አዲስ ዘመን ታህሳስ 28/2013']\n",
    "#model_predictions = model.predict(data1)\n",
    "#model_predictions['category']"
   ]
  },
  {
   "cell_type": "markdown",
   "metadata": {
    "id": "Ws56ahXpN5J8"
   },
   "source": [
    "# Applying Random Forest Classifier"
   ]
  },
  {
   "cell_type": "code",
   "execution_count": 33,
   "metadata": {
    "id": "71y6SdF3N5J9",
    "scrolled": true
   },
   "outputs": [
    {
     "name": "stdout",
     "output_type": "stream",
     "text": [
      "Accuracy: 80.24%\n",
      "              precision    recall  f1-score   support\n",
      "\n",
      "        ስፖርት       0.82      0.80      0.81      4136\n",
      "  ሀገር አቀፍ ዜና       0.66      0.68      0.67       148\n",
      "        ፖለቲካ       0.95      0.97      0.96      2125\n",
      "        ቢዝነስ       0.65      0.58      0.61       770\n",
      "  ዓለም አቀፍ ዜና       0.78      0.84      0.81      1260\n",
      "        መዝናኛ       0.69      0.70      0.69      1830\n",
      "\n",
      "    accuracy                           0.80     10269\n",
      "   macro avg       0.76      0.76      0.76     10269\n",
      "weighted avg       0.80      0.80      0.80     10269\n",
      "\n"
     ]
    }
   ],
   "source": [
    "from sklearn.ensemble import RandomForestClassifier\n",
    "model  = RandomForestClassifier(random_state=1)\n",
    "model.fit(xBalanced, yBalanced)\n",
    "model_pred = model.predict(X_test)\n",
    "print(\"Accuracy: {}%\".format(round(accuracy_score(y_test, model_pred)*100,2)))\n",
    "print(classification_report(y_test, model_pred ,target_names=uni))"
   ]
  },
  {
   "cell_type": "code",
   "execution_count": 34,
   "metadata": {
    "id": "5HYjlsqYN5KB"
   },
   "outputs": [
    {
     "name": "stderr",
     "output_type": "stream",
     "text": [
      "findfont: Font family 'Lohit Devanagari' not found.\n",
      "findfont: Font family 'Lohit Devanagari' not found.\n",
      "findfont: Font family 'Lohit Devanagari' not found.\n",
      "findfont: Font family 'Lohit Devanagari' not found.\n",
      "findfont: Font family 'Lohit Devanagari' not found.\n",
      "findfont: Font family 'Lohit Devanagari' not found.\n",
      "findfont: Font family 'Lohit Devanagari' not found.\n",
      "findfont: Font family 'Lohit Devanagari' not found.\n",
      "findfont: Font family 'Lohit Devanagari' not found.\n",
      "findfont: Font family 'Lohit Devanagari' not found.\n",
      "findfont: Font family 'Lohit Devanagari' not found.\n",
      "findfont: Font family 'Lohit Devanagari' not found.\n",
      "findfont: Font family 'Lohit Devanagari' not found.\n",
      "findfont: Font family 'Lohit Devanagari' not found.\n",
      "findfont: Font family 'Lohit Devanagari' not found.\n",
      "findfont: Font family 'Lohit Devanagari' not found.\n",
      "findfont: Font family 'Lohit Devanagari' not found.\n",
      "findfont: Font family 'Lohit Devanagari' not found.\n",
      "findfont: Font family 'Lohit Devanagari' not found.\n",
      "findfont: Font family 'Lohit Devanagari' not found.\n",
      "findfont: Font family 'Lohit Devanagari' not found.\n",
      "findfont: Font family 'Lohit Devanagari' not found.\n",
      "findfont: Font family 'Lohit Devanagari' not found.\n",
      "findfont: Font family 'Lohit Devanagari' not found.\n",
      "findfont: Font family 'Lohit Devanagari' not found.\n",
      "findfont: Font family 'Lohit Devanagari' not found.\n",
      "findfont: Font family 'Lohit Devanagari' not found.\n",
      "findfont: Font family 'Lohit Devanagari' not found.\n",
      "findfont: Font family 'Lohit Devanagari' not found.\n",
      "findfont: Font family 'Lohit Devanagari' not found.\n",
      "findfont: Font family 'Lohit Devanagari' not found.\n",
      "findfont: Font family 'Lohit Devanagari' not found.\n",
      "findfont: Font family 'Lohit Devanagari' not found.\n",
      "findfont: Font family 'Lohit Devanagari' not found.\n",
      "findfont: Font family 'Lohit Devanagari' not found.\n",
      "findfont: Font family 'Lohit Devanagari' not found.\n",
      "findfont: Font family 'Lohit Devanagari' not found.\n",
      "findfont: Font family 'Lohit Devanagari' not found.\n",
      "findfont: Font family 'Lohit Devanagari' not found.\n",
      "findfont: Font family 'Lohit Devanagari' not found.\n",
      "findfont: Font family 'Lohit Devanagari' not found.\n",
      "findfont: Font family 'Lohit Devanagari' not found.\n",
      "findfont: Font family 'Lohit Devanagari' not found.\n",
      "findfont: Font family 'Lohit Devanagari' not found.\n",
      "findfont: Font family 'Lohit Devanagari' not found.\n",
      "findfont: Font family 'Lohit Devanagari' not found.\n",
      "findfont: Font family 'Lohit Devanagari' not found.\n",
      "findfont: Font family 'Lohit Devanagari' not found.\n",
      "findfont: Font family 'Lohit Devanagari' not found.\n",
      "findfont: Font family 'Lohit Devanagari' not found.\n",
      "findfont: Font family 'Lohit Devanagari' not found.\n",
      "findfont: Font family 'Lohit Devanagari' not found.\n",
      "findfont: Font family 'Lohit Devanagari' not found.\n",
      "findfont: Font family 'Lohit Devanagari' not found.\n",
      "findfont: Font family 'Lohit Devanagari' not found.\n",
      "findfont: Font family 'Lohit Devanagari' not found.\n",
      "findfont: Font family 'Lohit Devanagari' not found.\n",
      "findfont: Font family 'Lohit Devanagari' not found.\n",
      "findfont: Font family 'Lohit Devanagari' not found.\n",
      "findfont: Font family 'Lohit Devanagari' not found.\n",
      "findfont: Font family 'Lohit Devanagari' not found.\n",
      "findfont: Font family 'Lohit Devanagari' not found.\n",
      "findfont: Font family 'Lohit Devanagari' not found.\n",
      "findfont: Font family 'Lohit Devanagari' not found.\n",
      "findfont: Font family 'Lohit Devanagari' not found.\n",
      "findfont: Font family 'Lohit Devanagari' not found.\n",
      "findfont: Font family 'Lohit Devanagari' not found.\n",
      "findfont: Font family 'Lohit Devanagari' not found.\n",
      "findfont: Font family 'Lohit Devanagari' not found.\n",
      "findfont: Font family 'Lohit Devanagari' not found.\n",
      "findfont: Font family 'Lohit Devanagari' not found.\n",
      "findfont: Font family 'Lohit Devanagari' not found.\n",
      "findfont: Font family 'Lohit Devanagari' not found.\n",
      "findfont: Font family 'Lohit Devanagari' not found.\n",
      "findfont: Font family 'Lohit Devanagari' not found.\n",
      "findfont: Font family 'Lohit Devanagari' not found.\n",
      "findfont: Font family 'Lohit Devanagari' not found.\n",
      "findfont: Font family 'Lohit Devanagari' not found.\n",
      "findfont: Font family 'Lohit Devanagari' not found.\n",
      "findfont: Font family 'Lohit Devanagari' not found.\n",
      "findfont: Font family 'Lohit Devanagari' not found.\n",
      "findfont: Font family 'Lohit Devanagari' not found.\n",
      "findfont: Font family 'Lohit Devanagari' not found.\n",
      "findfont: Font family 'Lohit Devanagari' not found.\n",
      "findfont: Font family 'Lohit Devanagari' not found.\n",
      "findfont: Font family 'Lohit Devanagari' not found.\n",
      "findfont: Font family 'Lohit Devanagari' not found.\n",
      "findfont: Font family 'Lohit Devanagari' not found.\n",
      "findfont: Font family 'Lohit Devanagari' not found.\n",
      "findfont: Font family 'Lohit Devanagari' not found.\n",
      "findfont: Font family 'Lohit Devanagari' not found.\n",
      "findfont: Font family 'Lohit Devanagari' not found.\n",
      "findfont: Font family 'Lohit Devanagari' not found.\n",
      "findfont: Font family 'Lohit Devanagari' not found.\n",
      "findfont: Font family 'Lohit Devanagari' not found.\n",
      "findfont: Font family 'Lohit Devanagari' not found.\n",
      "findfont: Font family 'Lohit Devanagari' not found.\n",
      "findfont: Font family 'Lohit Devanagari' not found.\n",
      "findfont: Font family 'Lohit Devanagari' not found.\n",
      "findfont: Font family 'Lohit Devanagari' not found.\n",
      "findfont: Font family 'Lohit Devanagari' not found.\n",
      "findfont: Font family 'Lohit Devanagari' not found.\n",
      "findfont: Font family 'Lohit Devanagari' not found.\n",
      "findfont: Font family 'Lohit Devanagari' not found.\n",
      "findfont: Font family 'Lohit Devanagari' not found.\n",
      "findfont: Font family 'Lohit Devanagari' not found.\n",
      "findfont: Font family 'Lohit Devanagari' not found.\n",
      "findfont: Font family 'Lohit Devanagari' not found.\n",
      "findfont: Font family 'Lohit Devanagari' not found.\n",
      "findfont: Font family 'Lohit Devanagari' not found.\n",
      "findfont: Font family 'Lohit Devanagari' not found.\n",
      "findfont: Font family 'Lohit Devanagari' not found.\n",
      "findfont: Font family 'Lohit Devanagari' not found.\n",
      "findfont: Font family 'Lohit Devanagari' not found.\n",
      "findfont: Font family 'Lohit Devanagari' not found.\n",
      "findfont: Font family 'Lohit Devanagari' not found.\n",
      "findfont: Font family 'Lohit Devanagari' not found.\n",
      "findfont: Font family 'Lohit Devanagari' not found.\n",
      "findfont: Font family 'Lohit Devanagari' not found.\n",
      "findfont: Font family 'Lohit Devanagari' not found.\n",
      "findfont: Font family 'Lohit Devanagari' not found.\n",
      "findfont: Font family 'Lohit Devanagari' not found.\n",
      "findfont: Font family 'Lohit Devanagari' not found.\n",
      "findfont: Font family 'Lohit Devanagari' not found.\n",
      "findfont: Font family 'Lohit Devanagari' not found.\n",
      "findfont: Font family 'Lohit Devanagari' not found.\n",
      "findfont: Font family 'Lohit Devanagari' not found.\n",
      "findfont: Font family 'Lohit Devanagari' not found.\n",
      "findfont: Font family 'Lohit Devanagari' not found.\n",
      "findfont: Font family 'Lohit Devanagari' not found.\n",
      "findfont: Font family 'Lohit Devanagari' not found.\n",
      "findfont: Font family 'Lohit Devanagari' not found.\n",
      "findfont: Font family 'Lohit Devanagari' not found.\n",
      "findfont: Font family 'Lohit Devanagari' not found.\n",
      "findfont: Font family 'Lohit Devanagari' not found.\n",
      "findfont: Font family 'Lohit Devanagari' not found.\n",
      "findfont: Font family 'Lohit Devanagari' not found.\n",
      "findfont: Font family 'Lohit Devanagari' not found.\n",
      "findfont: Font family 'Lohit Devanagari' not found.\n",
      "findfont: Font family 'Lohit Devanagari' not found.\n",
      "findfont: Font family 'Lohit Devanagari' not found.\n",
      "findfont: Font family 'Lohit Devanagari' not found.\n",
      "findfont: Font family 'Lohit Devanagari' not found.\n",
      "findfont: Font family 'Lohit Devanagari' not found.\n",
      "findfont: Font family 'Lohit Devanagari' not found.\n",
      "findfont: Font family 'Lohit Devanagari' not found.\n",
      "findfont: Font family 'Lohit Devanagari' not found.\n",
      "findfont: Font family 'Lohit Devanagari' not found.\n",
      "findfont: Font family 'Lohit Devanagari' not found.\n",
      "findfont: Font family 'Lohit Devanagari' not found.\n",
      "findfont: Font family 'Lohit Devanagari' not found.\n",
      "findfont: Font family 'Lohit Devanagari' not found.\n",
      "findfont: Font family 'Lohit Devanagari' not found.\n",
      "findfont: Font family 'Lohit Devanagari' not found.\n",
      "findfont: Font family 'Lohit Devanagari' not found.\n",
      "findfont: Font family 'Lohit Devanagari' not found.\n",
      "findfont: Font family 'Lohit Devanagari' not found.\n",
      "findfont: Font family 'Lohit Devanagari' not found.\n"
     ]
    },
    {
     "name": "stderr",
     "output_type": "stream",
     "text": [
      "findfont: Font family 'Lohit Devanagari' not found.\n",
      "findfont: Font family 'Lohit Devanagari' not found.\n",
      "findfont: Font family 'Lohit Devanagari' not found.\n",
      "findfont: Font family 'Lohit Devanagari' not found.\n",
      "findfont: Font family 'Lohit Devanagari' not found.\n",
      "findfont: Font family 'Lohit Devanagari' not found.\n",
      "findfont: Font family 'Lohit Devanagari' not found.\n",
      "findfont: Font family 'Lohit Devanagari' not found.\n",
      "findfont: Font family 'Lohit Devanagari' not found.\n",
      "findfont: Font family 'Lohit Devanagari' not found.\n",
      "findfont: Font family 'Lohit Devanagari' not found.\n",
      "findfont: Font family 'Lohit Devanagari' not found.\n",
      "findfont: Font family 'Lohit Devanagari' not found.\n",
      "findfont: Font family 'Lohit Devanagari' not found.\n",
      "findfont: Font family 'Lohit Devanagari' not found.\n",
      "findfont: Font family 'Lohit Devanagari' not found.\n",
      "findfont: Font family 'Lohit Devanagari' not found.\n",
      "findfont: Font family 'Lohit Devanagari' not found.\n",
      "findfont: Font family 'Lohit Devanagari' not found.\n",
      "findfont: Font family 'Lohit Devanagari' not found.\n",
      "findfont: Font family 'Lohit Devanagari' not found.\n",
      "findfont: Font family 'Lohit Devanagari' not found.\n",
      "findfont: Font family 'Lohit Devanagari' not found.\n",
      "findfont: Font family 'Lohit Devanagari' not found.\n",
      "findfont: Font family 'Lohit Devanagari' not found.\n",
      "findfont: Font family 'Lohit Devanagari' not found.\n",
      "findfont: Font family 'Lohit Devanagari' not found.\n",
      "findfont: Font family 'Lohit Devanagari' not found.\n",
      "findfont: Font family 'Lohit Devanagari' not found.\n",
      "findfont: Font family 'Lohit Devanagari' not found.\n",
      "findfont: Font family 'Lohit Devanagari' not found.\n",
      "findfont: Font family 'Lohit Devanagari' not found.\n",
      "findfont: Font family 'Lohit Devanagari' not found.\n",
      "findfont: Font family 'Lohit Devanagari' not found.\n",
      "findfont: Font family 'Lohit Devanagari' not found.\n",
      "findfont: Font family 'Lohit Devanagari' not found.\n",
      "findfont: Font family 'Lohit Devanagari' not found.\n",
      "findfont: Font family 'Lohit Devanagari' not found.\n",
      "findfont: Font family 'Lohit Devanagari' not found.\n",
      "findfont: Font family 'Lohit Devanagari' not found.\n",
      "findfont: Font family 'Lohit Devanagari' not found.\n",
      "findfont: Font family 'Lohit Devanagari' not found.\n",
      "findfont: Font family 'Lohit Devanagari' not found.\n",
      "findfont: Font family 'Lohit Devanagari' not found.\n",
      "findfont: Font family 'Lohit Devanagari' not found.\n",
      "findfont: Font family 'Lohit Devanagari' not found.\n",
      "findfont: Font family 'Lohit Devanagari' not found.\n",
      "findfont: Font family 'Lohit Devanagari' not found.\n",
      "findfont: Font family 'Lohit Devanagari' not found.\n",
      "findfont: Font family 'Lohit Devanagari' not found.\n",
      "findfont: Font family 'Lohit Devanagari' not found.\n",
      "findfont: Font family 'Lohit Devanagari' not found.\n"
     ]
    },
    {
     "data": {
      "image/png": "[encoded data removed]",
      "text/plain": [
       "<Figure size 2000x1000 with 2 Axes>"
      ]
     },
     "metadata": {},
     "output_type": "display_data"
    }
   ],
   "source": [
    "# used to measure the performance of a classifier in depth(i.e Random Forest). \n",
    "cm = metrics.confusion_matrix(y_test, model_pred)\n",
    "plot_confusion_matrix(cm, classes=uni)"
   ]
  },
  {
   "cell_type": "markdown",
   "metadata": {
    "id": "JiIuhdXHN5KK"
   },
   "source": [
    "# Applying Logistic Regression Classifier"
   ]
  },
  {
   "cell_type": "code",
   "execution_count": 35,
   "metadata": {
    "id": "8thjZKkhN5KT"
   },
   "outputs": [
    {
     "name": "stdout",
     "output_type": "stream",
     "text": [
      "Accuracy: 77.55%\n",
      "              precision    recall  f1-score   support\n",
      "\n",
      "        ስፖርት       0.85      0.71      0.77      4136\n",
      "  ሀገር አቀፍ ዜና       0.57      0.88      0.69       148\n",
      "        ፖለቲካ       0.97      0.96      0.97      2125\n",
      "        ቢዝነስ       0.52      0.73      0.61       770\n",
      "  ዓለም አቀፍ ዜና       0.72      0.82      0.76      1260\n",
      "        መዝናኛ       0.64      0.70      0.67      1830\n",
      "\n",
      "    accuracy                           0.78     10269\n",
      "   macro avg       0.71      0.80      0.75     10269\n",
      "weighted avg       0.79      0.78      0.78     10269\n",
      "\n"
     ]
    }
   ],
   "source": [
    "from sklearn.linear_model import LogisticRegression\n",
    "model = LogisticRegression()\n",
    "model.fit(xBalanced, yBalanced)\n",
    "model_pred1 = model.predict(X_test)\n",
    "print(\"Accuracy: {}%\".format(round(accuracy_score(y_test, model_pred1)*100,2)))\n",
    "print(classification_report(y_test, model_pred1 ,target_names=uni))"
   ]
  },
  {
   "cell_type": "code",
   "execution_count": 36,
   "metadata": {
    "id": "dGriBjlJN5KU",
    "scrolled": false
   },
   "outputs": [
    {
     "name": "stderr",
     "output_type": "stream",
     "text": [
      "findfont: Font family 'Lohit Devanagari' not found.\n",
      "findfont: Font family 'Lohit Devanagari' not found.\n",
      "findfont: Font family 'Lohit Devanagari' not found.\n",
      "findfont: Font family 'Lohit Devanagari' not found.\n",
      "findfont: Font family 'Lohit Devanagari' not found.\n",
      "findfont: Font family 'Lohit Devanagari' not found.\n",
      "findfont: Font family 'Lohit Devanagari' not found.\n",
      "findfont: Font family 'Lohit Devanagari' not found.\n",
      "findfont: Font family 'Lohit Devanagari' not found.\n",
      "findfont: Font family 'Lohit Devanagari' not found.\n",
      "findfont: Font family 'Lohit Devanagari' not found.\n",
      "findfont: Font family 'Lohit Devanagari' not found.\n",
      "findfont: Font family 'Lohit Devanagari' not found.\n",
      "findfont: Font family 'Lohit Devanagari' not found.\n",
      "findfont: Font family 'Lohit Devanagari' not found.\n",
      "findfont: Font family 'Lohit Devanagari' not found.\n",
      "findfont: Font family 'Lohit Devanagari' not found.\n",
      "findfont: Font family 'Lohit Devanagari' not found.\n",
      "findfont: Font family 'Lohit Devanagari' not found.\n",
      "findfont: Font family 'Lohit Devanagari' not found.\n",
      "findfont: Font family 'Lohit Devanagari' not found.\n",
      "findfont: Font family 'Lohit Devanagari' not found.\n",
      "findfont: Font family 'Lohit Devanagari' not found.\n",
      "findfont: Font family 'Lohit Devanagari' not found.\n",
      "findfont: Font family 'Lohit Devanagari' not found.\n",
      "findfont: Font family 'Lohit Devanagari' not found.\n",
      "findfont: Font family 'Lohit Devanagari' not found.\n",
      "findfont: Font family 'Lohit Devanagari' not found.\n",
      "findfont: Font family 'Lohit Devanagari' not found.\n",
      "findfont: Font family 'Lohit Devanagari' not found.\n",
      "findfont: Font family 'Lohit Devanagari' not found.\n",
      "findfont: Font family 'Lohit Devanagari' not found.\n",
      "findfont: Font family 'Lohit Devanagari' not found.\n",
      "findfont: Font family 'Lohit Devanagari' not found.\n",
      "findfont: Font family 'Lohit Devanagari' not found.\n",
      "findfont: Font family 'Lohit Devanagari' not found.\n",
      "findfont: Font family 'Lohit Devanagari' not found.\n",
      "findfont: Font family 'Lohit Devanagari' not found.\n",
      "findfont: Font family 'Lohit Devanagari' not found.\n",
      "findfont: Font family 'Lohit Devanagari' not found.\n",
      "findfont: Font family 'Lohit Devanagari' not found.\n",
      "findfont: Font family 'Lohit Devanagari' not found.\n",
      "findfont: Font family 'Lohit Devanagari' not found.\n",
      "findfont: Font family 'Lohit Devanagari' not found.\n",
      "findfont: Font family 'Lohit Devanagari' not found.\n",
      "findfont: Font family 'Lohit Devanagari' not found.\n",
      "findfont: Font family 'Lohit Devanagari' not found.\n",
      "findfont: Font family 'Lohit Devanagari' not found.\n",
      "findfont: Font family 'Lohit Devanagari' not found.\n",
      "findfont: Font family 'Lohit Devanagari' not found.\n",
      "findfont: Font family 'Lohit Devanagari' not found.\n",
      "findfont: Font family 'Lohit Devanagari' not found.\n",
      "findfont: Font family 'Lohit Devanagari' not found.\n",
      "findfont: Font family 'Lohit Devanagari' not found.\n",
      "findfont: Font family 'Lohit Devanagari' not found.\n",
      "findfont: Font family 'Lohit Devanagari' not found.\n",
      "findfont: Font family 'Lohit Devanagari' not found.\n",
      "findfont: Font family 'Lohit Devanagari' not found.\n",
      "findfont: Font family 'Lohit Devanagari' not found.\n",
      "findfont: Font family 'Lohit Devanagari' not found.\n",
      "findfont: Font family 'Lohit Devanagari' not found.\n",
      "findfont: Font family 'Lohit Devanagari' not found.\n",
      "findfont: Font family 'Lohit Devanagari' not found.\n",
      "findfont: Font family 'Lohit Devanagari' not found.\n",
      "findfont: Font family 'Lohit Devanagari' not found.\n",
      "findfont: Font family 'Lohit Devanagari' not found.\n",
      "findfont: Font family 'Lohit Devanagari' not found.\n",
      "findfont: Font family 'Lohit Devanagari' not found.\n",
      "findfont: Font family 'Lohit Devanagari' not found.\n",
      "findfont: Font family 'Lohit Devanagari' not found.\n",
      "findfont: Font family 'Lohit Devanagari' not found.\n",
      "findfont: Font family 'Lohit Devanagari' not found.\n",
      "findfont: Font family 'Lohit Devanagari' not found.\n",
      "findfont: Font family 'Lohit Devanagari' not found.\n",
      "findfont: Font family 'Lohit Devanagari' not found.\n",
      "findfont: Font family 'Lohit Devanagari' not found.\n",
      "findfont: Font family 'Lohit Devanagari' not found.\n",
      "findfont: Font family 'Lohit Devanagari' not found.\n",
      "findfont: Font family 'Lohit Devanagari' not found.\n",
      "findfont: Font family 'Lohit Devanagari' not found.\n",
      "findfont: Font family 'Lohit Devanagari' not found.\n",
      "findfont: Font family 'Lohit Devanagari' not found.\n",
      "findfont: Font family 'Lohit Devanagari' not found.\n",
      "findfont: Font family 'Lohit Devanagari' not found.\n",
      "findfont: Font family 'Lohit Devanagari' not found.\n",
      "findfont: Font family 'Lohit Devanagari' not found.\n",
      "findfont: Font family 'Lohit Devanagari' not found.\n",
      "findfont: Font family 'Lohit Devanagari' not found.\n",
      "findfont: Font family 'Lohit Devanagari' not found.\n",
      "findfont: Font family 'Lohit Devanagari' not found.\n",
      "findfont: Font family 'Lohit Devanagari' not found.\n",
      "findfont: Font family 'Lohit Devanagari' not found.\n",
      "findfont: Font family 'Lohit Devanagari' not found.\n",
      "findfont: Font family 'Lohit Devanagari' not found.\n",
      "findfont: Font family 'Lohit Devanagari' not found.\n",
      "findfont: Font family 'Lohit Devanagari' not found.\n",
      "findfont: Font family 'Lohit Devanagari' not found.\n",
      "findfont: Font family 'Lohit Devanagari' not found.\n",
      "findfont: Font family 'Lohit Devanagari' not found.\n",
      "findfont: Font family 'Lohit Devanagari' not found.\n",
      "findfont: Font family 'Lohit Devanagari' not found.\n",
      "findfont: Font family 'Lohit Devanagari' not found.\n",
      "findfont: Font family 'Lohit Devanagari' not found.\n",
      "findfont: Font family 'Lohit Devanagari' not found.\n",
      "findfont: Font family 'Lohit Devanagari' not found.\n",
      "findfont: Font family 'Lohit Devanagari' not found.\n",
      "findfont: Font family 'Lohit Devanagari' not found.\n",
      "findfont: Font family 'Lohit Devanagari' not found.\n",
      "findfont: Font family 'Lohit Devanagari' not found.\n",
      "findfont: Font family 'Lohit Devanagari' not found.\n",
      "findfont: Font family 'Lohit Devanagari' not found.\n",
      "findfont: Font family 'Lohit Devanagari' not found.\n",
      "findfont: Font family 'Lohit Devanagari' not found.\n",
      "findfont: Font family 'Lohit Devanagari' not found.\n",
      "findfont: Font family 'Lohit Devanagari' not found.\n",
      "findfont: Font family 'Lohit Devanagari' not found.\n",
      "findfont: Font family 'Lohit Devanagari' not found.\n",
      "findfont: Font family 'Lohit Devanagari' not found.\n",
      "findfont: Font family 'Lohit Devanagari' not found.\n",
      "findfont: Font family 'Lohit Devanagari' not found.\n",
      "findfont: Font family 'Lohit Devanagari' not found.\n",
      "findfont: Font family 'Lohit Devanagari' not found.\n",
      "findfont: Font family 'Lohit Devanagari' not found.\n",
      "findfont: Font family 'Lohit Devanagari' not found.\n",
      "findfont: Font family 'Lohit Devanagari' not found.\n",
      "findfont: Font family 'Lohit Devanagari' not found.\n",
      "findfont: Font family 'Lohit Devanagari' not found.\n",
      "findfont: Font family 'Lohit Devanagari' not found.\n",
      "findfont: Font family 'Lohit Devanagari' not found.\n",
      "findfont: Font family 'Lohit Devanagari' not found.\n",
      "findfont: Font family 'Lohit Devanagari' not found.\n",
      "findfont: Font family 'Lohit Devanagari' not found.\n",
      "findfont: Font family 'Lohit Devanagari' not found.\n",
      "findfont: Font family 'Lohit Devanagari' not found.\n",
      "findfont: Font family 'Lohit Devanagari' not found.\n",
      "findfont: Font family 'Lohit Devanagari' not found.\n",
      "findfont: Font family 'Lohit Devanagari' not found.\n",
      "findfont: Font family 'Lohit Devanagari' not found.\n",
      "findfont: Font family 'Lohit Devanagari' not found.\n",
      "findfont: Font family 'Lohit Devanagari' not found.\n",
      "findfont: Font family 'Lohit Devanagari' not found.\n",
      "findfont: Font family 'Lohit Devanagari' not found.\n",
      "findfont: Font family 'Lohit Devanagari' not found.\n",
      "findfont: Font family 'Lohit Devanagari' not found.\n",
      "findfont: Font family 'Lohit Devanagari' not found.\n",
      "findfont: Font family 'Lohit Devanagari' not found.\n",
      "findfont: Font family 'Lohit Devanagari' not found.\n",
      "findfont: Font family 'Lohit Devanagari' not found.\n",
      "findfont: Font family 'Lohit Devanagari' not found.\n",
      "findfont: Font family 'Lohit Devanagari' not found.\n",
      "findfont: Font family 'Lohit Devanagari' not found.\n",
      "findfont: Font family 'Lohit Devanagari' not found.\n",
      "findfont: Font family 'Lohit Devanagari' not found.\n",
      "findfont: Font family 'Lohit Devanagari' not found.\n",
      "findfont: Font family 'Lohit Devanagari' not found.\n",
      "findfont: Font family 'Lohit Devanagari' not found.\n",
      "findfont: Font family 'Lohit Devanagari' not found.\n",
      "findfont: Font family 'Lohit Devanagari' not found.\n"
     ]
    },
    {
     "name": "stderr",
     "output_type": "stream",
     "text": [
      "findfont: Font family 'Lohit Devanagari' not found.\n",
      "findfont: Font family 'Lohit Devanagari' not found.\n",
      "findfont: Font family 'Lohit Devanagari' not found.\n",
      "findfont: Font family 'Lohit Devanagari' not found.\n",
      "findfont: Font family 'Lohit Devanagari' not found.\n",
      "findfont: Font family 'Lohit Devanagari' not found.\n",
      "findfont: Font family 'Lohit Devanagari' not found.\n",
      "findfont: Font family 'Lohit Devanagari' not found.\n",
      "findfont: Font family 'Lohit Devanagari' not found.\n",
      "findfont: Font family 'Lohit Devanagari' not found.\n",
      "findfont: Font family 'Lohit Devanagari' not found.\n",
      "findfont: Font family 'Lohit Devanagari' not found.\n",
      "findfont: Font family 'Lohit Devanagari' not found.\n",
      "findfont: Font family 'Lohit Devanagari' not found.\n",
      "findfont: Font family 'Lohit Devanagari' not found.\n",
      "findfont: Font family 'Lohit Devanagari' not found.\n",
      "findfont: Font family 'Lohit Devanagari' not found.\n",
      "findfont: Font family 'Lohit Devanagari' not found.\n",
      "findfont: Font family 'Lohit Devanagari' not found.\n",
      "findfont: Font family 'Lohit Devanagari' not found.\n",
      "findfont: Font family 'Lohit Devanagari' not found.\n",
      "findfont: Font family 'Lohit Devanagari' not found.\n",
      "findfont: Font family 'Lohit Devanagari' not found.\n",
      "findfont: Font family 'Lohit Devanagari' not found.\n",
      "findfont: Font family 'Lohit Devanagari' not found.\n",
      "findfont: Font family 'Lohit Devanagari' not found.\n",
      "findfont: Font family 'Lohit Devanagari' not found.\n",
      "findfont: Font family 'Lohit Devanagari' not found.\n",
      "findfont: Font family 'Lohit Devanagari' not found.\n",
      "findfont: Font family 'Lohit Devanagari' not found.\n",
      "findfont: Font family 'Lohit Devanagari' not found.\n",
      "findfont: Font family 'Lohit Devanagari' not found.\n",
      "findfont: Font family 'Lohit Devanagari' not found.\n",
      "findfont: Font family 'Lohit Devanagari' not found.\n",
      "findfont: Font family 'Lohit Devanagari' not found.\n",
      "findfont: Font family 'Lohit Devanagari' not found.\n",
      "findfont: Font family 'Lohit Devanagari' not found.\n",
      "findfont: Font family 'Lohit Devanagari' not found.\n",
      "findfont: Font family 'Lohit Devanagari' not found.\n",
      "findfont: Font family 'Lohit Devanagari' not found.\n",
      "findfont: Font family 'Lohit Devanagari' not found.\n",
      "findfont: Font family 'Lohit Devanagari' not found.\n",
      "findfont: Font family 'Lohit Devanagari' not found.\n",
      "findfont: Font family 'Lohit Devanagari' not found.\n",
      "findfont: Font family 'Lohit Devanagari' not found.\n",
      "findfont: Font family 'Lohit Devanagari' not found.\n",
      "findfont: Font family 'Lohit Devanagari' not found.\n",
      "findfont: Font family 'Lohit Devanagari' not found.\n",
      "findfont: Font family 'Lohit Devanagari' not found.\n",
      "findfont: Font family 'Lohit Devanagari' not found.\n"
     ]
    },
    {
     "data": {
      "image/png": "[encoded data removed]",
      "text/plain": [
       "<Figure size 2000x1000 with 2 Axes>"
      ]
     },
     "metadata": {},
     "output_type": "display_data"
    }
   ],
   "source": [
    "# used to measure the performance of a classifier in depth(i.e Logistic Regression). \n",
    "cm = metrics.confusion_matrix(y_test, model_pred1)\n",
    "plot_confusion_matrix(cm, classes=uni)"
   ]
  },
  {
   "cell_type": "markdown",
   "metadata": {
    "id": "zu90Gh92N5KW"
   },
   "source": [
    "# Applying k-nearest neighbors Classifier"
   ]
  },
  {
   "cell_type": "code",
   "execution_count": 37,
   "metadata": {
    "id": "qcMoC-9hN5Kb"
   },
   "outputs": [
    {
     "name": "stdout",
     "output_type": "stream",
     "text": [
      "Accuracy: 52.49%\n",
      "              precision    recall  f1-score   support\n",
      "\n",
      "        ስፖርት       0.92      0.10      0.18      4136\n",
      "  ሀገር አቀፍ ዜና       0.48      0.64      0.55       148\n",
      "        ፖለቲካ       0.91      0.96      0.94      2125\n",
      "        ቢዝነስ       0.24      0.86      0.37       770\n",
      "  ዓለም አቀፍ ዜና       0.49      0.80      0.61      1260\n",
      "        መዝናኛ       0.45      0.63      0.53      1830\n",
      "\n",
      "    accuracy                           0.52     10269\n",
      "   macro avg       0.58      0.67      0.53     10269\n",
      "weighted avg       0.72      0.52      0.47     10269\n",
      "\n"
     ]
    }
   ],
   "source": [
    "from sklearn.neighbors import KNeighborsClassifier\n",
    "model = KNeighborsClassifier()\n",
    "model.fit(xBalanced, yBalanced)\n",
    "model_pred2 = model.predict(X_test)\n",
    "print(\"Accuracy: {}%\".format(round(accuracy_score(y_test, model_pred2)*100,2)))\n",
    "print(classification_report(y_test, model_pred2,target_names=uni))"
   ]
  },
  {
   "cell_type": "code",
   "execution_count": 38,
   "metadata": {
    "id": "TCqIzwaBN5Kd"
   },
   "outputs": [
    {
     "name": "stderr",
     "output_type": "stream",
     "text": [
      "findfont: Font family 'Lohit Devanagari' not found.\n",
      "findfont: Font family 'Lohit Devanagari' not found.\n",
      "findfont: Font family 'Lohit Devanagari' not found.\n",
      "findfont: Font family 'Lohit Devanagari' not found.\n",
      "findfont: Font family 'Lohit Devanagari' not found.\n",
      "findfont: Font family 'Lohit Devanagari' not found.\n",
      "findfont: Font family 'Lohit Devanagari' not found.\n",
      "findfont: Font family 'Lohit Devanagari' not found.\n",
      "findfont: Font family 'Lohit Devanagari' not found.\n",
      "findfont: Font family 'Lohit Devanagari' not found.\n",
      "findfont: Font family 'Lohit Devanagari' not found.\n",
      "findfont: Font family 'Lohit Devanagari' not found.\n",
      "findfont: Font family 'Lohit Devanagari' not found.\n",
      "findfont: Font family 'Lohit Devanagari' not found.\n",
      "findfont: Font family 'Lohit Devanagari' not found.\n",
      "findfont: Font family 'Lohit Devanagari' not found.\n",
      "findfont: Font family 'Lohit Devanagari' not found.\n",
      "findfont: Font family 'Lohit Devanagari' not found.\n",
      "findfont: Font family 'Lohit Devanagari' not found.\n",
      "findfont: Font family 'Lohit Devanagari' not found.\n",
      "findfont: Font family 'Lohit Devanagari' not found.\n",
      "findfont: Font family 'Lohit Devanagari' not found.\n",
      "findfont: Font family 'Lohit Devanagari' not found.\n",
      "findfont: Font family 'Lohit Devanagari' not found.\n",
      "findfont: Font family 'Lohit Devanagari' not found.\n",
      "findfont: Font family 'Lohit Devanagari' not found.\n",
      "findfont: Font family 'Lohit Devanagari' not found.\n",
      "findfont: Font family 'Lohit Devanagari' not found.\n",
      "findfont: Font family 'Lohit Devanagari' not found.\n",
      "findfont: Font family 'Lohit Devanagari' not found.\n",
      "findfont: Font family 'Lohit Devanagari' not found.\n",
      "findfont: Font family 'Lohit Devanagari' not found.\n",
      "findfont: Font family 'Lohit Devanagari' not found.\n",
      "findfont: Font family 'Lohit Devanagari' not found.\n",
      "findfont: Font family 'Lohit Devanagari' not found.\n",
      "findfont: Font family 'Lohit Devanagari' not found.\n",
      "findfont: Font family 'Lohit Devanagari' not found.\n",
      "findfont: Font family 'Lohit Devanagari' not found.\n",
      "findfont: Font family 'Lohit Devanagari' not found.\n",
      "findfont: Font family 'Lohit Devanagari' not found.\n",
      "findfont: Font family 'Lohit Devanagari' not found.\n",
      "findfont: Font family 'Lohit Devanagari' not found.\n",
      "findfont: Font family 'Lohit Devanagari' not found.\n",
      "findfont: Font family 'Lohit Devanagari' not found.\n",
      "findfont: Font family 'Lohit Devanagari' not found.\n",
      "findfont: Font family 'Lohit Devanagari' not found.\n",
      "findfont: Font family 'Lohit Devanagari' not found.\n",
      "findfont: Font family 'Lohit Devanagari' not found.\n",
      "findfont: Font family 'Lohit Devanagari' not found.\n",
      "findfont: Font family 'Lohit Devanagari' not found.\n",
      "findfont: Font family 'Lohit Devanagari' not found.\n",
      "findfont: Font family 'Lohit Devanagari' not found.\n",
      "findfont: Font family 'Lohit Devanagari' not found.\n",
      "findfont: Font family 'Lohit Devanagari' not found.\n",
      "findfont: Font family 'Lohit Devanagari' not found.\n",
      "findfont: Font family 'Lohit Devanagari' not found.\n",
      "findfont: Font family 'Lohit Devanagari' not found.\n",
      "findfont: Font family 'Lohit Devanagari' not found.\n",
      "findfont: Font family 'Lohit Devanagari' not found.\n",
      "findfont: Font family 'Lohit Devanagari' not found.\n",
      "findfont: Font family 'Lohit Devanagari' not found.\n",
      "findfont: Font family 'Lohit Devanagari' not found.\n",
      "findfont: Font family 'Lohit Devanagari' not found.\n",
      "findfont: Font family 'Lohit Devanagari' not found.\n",
      "findfont: Font family 'Lohit Devanagari' not found.\n",
      "findfont: Font family 'Lohit Devanagari' not found.\n",
      "findfont: Font family 'Lohit Devanagari' not found.\n",
      "findfont: Font family 'Lohit Devanagari' not found.\n",
      "findfont: Font family 'Lohit Devanagari' not found.\n",
      "findfont: Font family 'Lohit Devanagari' not found.\n",
      "findfont: Font family 'Lohit Devanagari' not found.\n",
      "findfont: Font family 'Lohit Devanagari' not found.\n",
      "findfont: Font family 'Lohit Devanagari' not found.\n",
      "findfont: Font family 'Lohit Devanagari' not found.\n",
      "findfont: Font family 'Lohit Devanagari' not found.\n",
      "findfont: Font family 'Lohit Devanagari' not found.\n",
      "findfont: Font family 'Lohit Devanagari' not found.\n",
      "findfont: Font family 'Lohit Devanagari' not found.\n",
      "findfont: Font family 'Lohit Devanagari' not found.\n",
      "findfont: Font family 'Lohit Devanagari' not found.\n",
      "findfont: Font family 'Lohit Devanagari' not found.\n",
      "findfont: Font family 'Lohit Devanagari' not found.\n",
      "findfont: Font family 'Lohit Devanagari' not found.\n",
      "findfont: Font family 'Lohit Devanagari' not found.\n",
      "findfont: Font family 'Lohit Devanagari' not found.\n",
      "findfont: Font family 'Lohit Devanagari' not found.\n",
      "findfont: Font family 'Lohit Devanagari' not found.\n",
      "findfont: Font family 'Lohit Devanagari' not found.\n",
      "findfont: Font family 'Lohit Devanagari' not found.\n",
      "findfont: Font family 'Lohit Devanagari' not found.\n",
      "findfont: Font family 'Lohit Devanagari' not found.\n",
      "findfont: Font family 'Lohit Devanagari' not found.\n",
      "findfont: Font family 'Lohit Devanagari' not found.\n",
      "findfont: Font family 'Lohit Devanagari' not found.\n",
      "findfont: Font family 'Lohit Devanagari' not found.\n",
      "findfont: Font family 'Lohit Devanagari' not found.\n",
      "findfont: Font family 'Lohit Devanagari' not found.\n",
      "findfont: Font family 'Lohit Devanagari' not found.\n",
      "findfont: Font family 'Lohit Devanagari' not found.\n",
      "findfont: Font family 'Lohit Devanagari' not found.\n",
      "findfont: Font family 'Lohit Devanagari' not found.\n",
      "findfont: Font family 'Lohit Devanagari' not found.\n",
      "findfont: Font family 'Lohit Devanagari' not found.\n",
      "findfont: Font family 'Lohit Devanagari' not found.\n",
      "findfont: Font family 'Lohit Devanagari' not found.\n",
      "findfont: Font family 'Lohit Devanagari' not found.\n",
      "findfont: Font family 'Lohit Devanagari' not found.\n",
      "findfont: Font family 'Lohit Devanagari' not found.\n",
      "findfont: Font family 'Lohit Devanagari' not found.\n",
      "findfont: Font family 'Lohit Devanagari' not found.\n",
      "findfont: Font family 'Lohit Devanagari' not found.\n",
      "findfont: Font family 'Lohit Devanagari' not found.\n",
      "findfont: Font family 'Lohit Devanagari' not found.\n",
      "findfont: Font family 'Lohit Devanagari' not found.\n",
      "findfont: Font family 'Lohit Devanagari' not found.\n",
      "findfont: Font family 'Lohit Devanagari' not found.\n",
      "findfont: Font family 'Lohit Devanagari' not found.\n",
      "findfont: Font family 'Lohit Devanagari' not found.\n",
      "findfont: Font family 'Lohit Devanagari' not found.\n",
      "findfont: Font family 'Lohit Devanagari' not found.\n",
      "findfont: Font family 'Lohit Devanagari' not found.\n",
      "findfont: Font family 'Lohit Devanagari' not found.\n",
      "findfont: Font family 'Lohit Devanagari' not found.\n",
      "findfont: Font family 'Lohit Devanagari' not found.\n",
      "findfont: Font family 'Lohit Devanagari' not found.\n",
      "findfont: Font family 'Lohit Devanagari' not found.\n",
      "findfont: Font family 'Lohit Devanagari' not found.\n",
      "findfont: Font family 'Lohit Devanagari' not found.\n",
      "findfont: Font family 'Lohit Devanagari' not found.\n",
      "findfont: Font family 'Lohit Devanagari' not found.\n",
      "findfont: Font family 'Lohit Devanagari' not found.\n",
      "findfont: Font family 'Lohit Devanagari' not found.\n",
      "findfont: Font family 'Lohit Devanagari' not found.\n",
      "findfont: Font family 'Lohit Devanagari' not found.\n",
      "findfont: Font family 'Lohit Devanagari' not found.\n",
      "findfont: Font family 'Lohit Devanagari' not found.\n",
      "findfont: Font family 'Lohit Devanagari' not found.\n",
      "findfont: Font family 'Lohit Devanagari' not found.\n",
      "findfont: Font family 'Lohit Devanagari' not found.\n",
      "findfont: Font family 'Lohit Devanagari' not found.\n",
      "findfont: Font family 'Lohit Devanagari' not found.\n",
      "findfont: Font family 'Lohit Devanagari' not found.\n",
      "findfont: Font family 'Lohit Devanagari' not found.\n",
      "findfont: Font family 'Lohit Devanagari' not found.\n",
      "findfont: Font family 'Lohit Devanagari' not found.\n",
      "findfont: Font family 'Lohit Devanagari' not found.\n",
      "findfont: Font family 'Lohit Devanagari' not found.\n",
      "findfont: Font family 'Lohit Devanagari' not found.\n",
      "findfont: Font family 'Lohit Devanagari' not found.\n",
      "findfont: Font family 'Lohit Devanagari' not found.\n",
      "findfont: Font family 'Lohit Devanagari' not found.\n",
      "findfont: Font family 'Lohit Devanagari' not found.\n",
      "findfont: Font family 'Lohit Devanagari' not found.\n",
      "findfont: Font family 'Lohit Devanagari' not found.\n",
      "findfont: Font family 'Lohit Devanagari' not found.\n",
      "findfont: Font family 'Lohit Devanagari' not found.\n",
      "findfont: Font family 'Lohit Devanagari' not found.\n",
      "findfont: Font family 'Lohit Devanagari' not found.\n"
     ]
    },
    {
     "name": "stderr",
     "output_type": "stream",
     "text": [
      "findfont: Font family 'Lohit Devanagari' not found.\n",
      "findfont: Font family 'Lohit Devanagari' not found.\n",
      "findfont: Font family 'Lohit Devanagari' not found.\n",
      "findfont: Font family 'Lohit Devanagari' not found.\n",
      "findfont: Font family 'Lohit Devanagari' not found.\n",
      "findfont: Font family 'Lohit Devanagari' not found.\n",
      "findfont: Font family 'Lohit Devanagari' not found.\n",
      "findfont: Font family 'Lohit Devanagari' not found.\n",
      "findfont: Font family 'Lohit Devanagari' not found.\n",
      "findfont: Font family 'Lohit Devanagari' not found.\n",
      "findfont: Font family 'Lohit Devanagari' not found.\n",
      "findfont: Font family 'Lohit Devanagari' not found.\n",
      "findfont: Font family 'Lohit Devanagari' not found.\n",
      "findfont: Font family 'Lohit Devanagari' not found.\n",
      "findfont: Font family 'Lohit Devanagari' not found.\n",
      "findfont: Font family 'Lohit Devanagari' not found.\n",
      "findfont: Font family 'Lohit Devanagari' not found.\n",
      "findfont: Font family 'Lohit Devanagari' not found.\n",
      "findfont: Font family 'Lohit Devanagari' not found.\n",
      "findfont: Font family 'Lohit Devanagari' not found.\n",
      "findfont: Font family 'Lohit Devanagari' not found.\n",
      "findfont: Font family 'Lohit Devanagari' not found.\n",
      "findfont: Font family 'Lohit Devanagari' not found.\n",
      "findfont: Font family 'Lohit Devanagari' not found.\n",
      "findfont: Font family 'Lohit Devanagari' not found.\n",
      "findfont: Font family 'Lohit Devanagari' not found.\n",
      "findfont: Font family 'Lohit Devanagari' not found.\n",
      "findfont: Font family 'Lohit Devanagari' not found.\n",
      "findfont: Font family 'Lohit Devanagari' not found.\n",
      "findfont: Font family 'Lohit Devanagari' not found.\n",
      "findfont: Font family 'Lohit Devanagari' not found.\n",
      "findfont: Font family 'Lohit Devanagari' not found.\n",
      "findfont: Font family 'Lohit Devanagari' not found.\n",
      "findfont: Font family 'Lohit Devanagari' not found.\n",
      "findfont: Font family 'Lohit Devanagari' not found.\n",
      "findfont: Font family 'Lohit Devanagari' not found.\n",
      "findfont: Font family 'Lohit Devanagari' not found.\n",
      "findfont: Font family 'Lohit Devanagari' not found.\n",
      "findfont: Font family 'Lohit Devanagari' not found.\n",
      "findfont: Font family 'Lohit Devanagari' not found.\n",
      "findfont: Font family 'Lohit Devanagari' not found.\n",
      "findfont: Font family 'Lohit Devanagari' not found.\n",
      "findfont: Font family 'Lohit Devanagari' not found.\n",
      "findfont: Font family 'Lohit Devanagari' not found.\n",
      "findfont: Font family 'Lohit Devanagari' not found.\n",
      "findfont: Font family 'Lohit Devanagari' not found.\n",
      "findfont: Font family 'Lohit Devanagari' not found.\n",
      "findfont: Font family 'Lohit Devanagari' not found.\n",
      "findfont: Font family 'Lohit Devanagari' not found.\n",
      "findfont: Font family 'Lohit Devanagari' not found.\n",
      "findfont: Font family 'Lohit Devanagari' not found.\n",
      "findfont: Font family 'Lohit Devanagari' not found.\n",
      "findfont: Font family 'Lohit Devanagari' not found.\n",
      "findfont: Font family 'Lohit Devanagari' not found.\n",
      "findfont: Font family 'Lohit Devanagari' not found.\n",
      "findfont: Font family 'Lohit Devanagari' not found.\n",
      "findfont: Font family 'Lohit Devanagari' not found.\n",
      "findfont: Font family 'Lohit Devanagari' not found.\n",
      "findfont: Font family 'Lohit Devanagari' not found.\n",
      "findfont: Font family 'Lohit Devanagari' not found.\n"
     ]
    },
    {
     "data": {
      "image/png": "[encoded data removed]",
      "text/plain": [
       "<Figure size 2000x1000 with 2 Axes>"
      ]
     },
     "metadata": {},
     "output_type": "display_data"
    }
   ],
   "source": [
    "# used to measure the performance of a classifier in depth(i.e k-nearest neighbor). \n",
    "cm = metrics.confusion_matrix(y_test, model_pred2)\n",
    "plot_confusion_matrix(cm, classes=uni)"
   ]
  },
  {
   "cell_type": "markdown",
   "metadata": {
    "id": "EDXqS8MuN5Kg"
   },
   "source": [
    "# Applying Decission Tree Classifier"
   ]
  },
  {
   "cell_type": "code",
   "execution_count": 39,
   "metadata": {
    "id": "-Q0yqKYUN5Ki"
   },
   "outputs": [
    {
     "name": "stdout",
     "output_type": "stream",
     "text": [
      "Accuracy: 66.85%\n",
      "              precision    recall  f1-score   support\n",
      "\n",
      "        ስፖርት       0.71      0.66      0.69      4136\n",
      "  ሀገር አቀፍ ዜና       0.53      0.55      0.54       148\n",
      "        ፖለቲካ       0.90      0.91      0.91      2125\n",
      "        ቢዝነስ       0.38      0.43      0.40       770\n",
      "  ዓለም አቀፍ ዜና       0.62      0.67      0.64      1260\n",
      "        መዝናኛ       0.50      0.51      0.51      1830\n",
      "\n",
      "    accuracy                           0.67     10269\n",
      "   macro avg       0.61      0.62      0.61     10269\n",
      "weighted avg       0.67      0.67      0.67     10269\n",
      "\n"
     ]
    }
   ],
   "source": [
    "from sklearn.tree import DecisionTreeClassifier\n",
    "model = DecisionTreeClassifier(random_state=1)\n",
    "model.fit(xBalanced, yBalanced)\n",
    "model_pred3 = model.predict(X_test)\n",
    "print(\"Accuracy: {}%\".format(round(accuracy_score(y_test, model_pred3)*100,2)))\n",
    "print(classification_report(y_test, model_pred3,target_names=uni))"
   ]
  },
  {
   "cell_type": "code",
   "execution_count": 40,
   "metadata": {
    "id": "rQYoxFTUN5Kk"
   },
   "outputs": [
    {
     "name": "stderr",
     "output_type": "stream",
     "text": [
      "findfont: Font family 'Lohit Devanagari' not found.\n",
      "findfont: Font family 'Lohit Devanagari' not found.\n",
      "findfont: Font family 'Lohit Devanagari' not found.\n",
      "findfont: Font family 'Lohit Devanagari' not found.\n",
      "findfont: Font family 'Lohit Devanagari' not found.\n",
      "findfont: Font family 'Lohit Devanagari' not found.\n",
      "findfont: Font family 'Lohit Devanagari' not found.\n",
      "findfont: Font family 'Lohit Devanagari' not found.\n",
      "findfont: Font family 'Lohit Devanagari' not found.\n",
      "findfont: Font family 'Lohit Devanagari' not found.\n",
      "findfont: Font family 'Lohit Devanagari' not found.\n",
      "findfont: Font family 'Lohit Devanagari' not found.\n",
      "findfont: Font family 'Lohit Devanagari' not found.\n",
      "findfont: Font family 'Lohit Devanagari' not found.\n",
      "findfont: Font family 'Lohit Devanagari' not found.\n",
      "findfont: Font family 'Lohit Devanagari' not found.\n",
      "findfont: Font family 'Lohit Devanagari' not found.\n",
      "findfont: Font family 'Lohit Devanagari' not found.\n",
      "findfont: Font family 'Lohit Devanagari' not found.\n",
      "findfont: Font family 'Lohit Devanagari' not found.\n",
      "findfont: Font family 'Lohit Devanagari' not found.\n",
      "findfont: Font family 'Lohit Devanagari' not found.\n",
      "findfont: Font family 'Lohit Devanagari' not found.\n",
      "findfont: Font family 'Lohit Devanagari' not found.\n",
      "findfont: Font family 'Lohit Devanagari' not found.\n",
      "findfont: Font family 'Lohit Devanagari' not found.\n",
      "findfont: Font family 'Lohit Devanagari' not found.\n",
      "findfont: Font family 'Lohit Devanagari' not found.\n",
      "findfont: Font family 'Lohit Devanagari' not found.\n",
      "findfont: Font family 'Lohit Devanagari' not found.\n",
      "findfont: Font family 'Lohit Devanagari' not found.\n",
      "findfont: Font family 'Lohit Devanagari' not found.\n",
      "findfont: Font family 'Lohit Devanagari' not found.\n",
      "findfont: Font family 'Lohit Devanagari' not found.\n",
      "findfont: Font family 'Lohit Devanagari' not found.\n",
      "findfont: Font family 'Lohit Devanagari' not found.\n",
      "findfont: Font family 'Lohit Devanagari' not found.\n",
      "findfont: Font family 'Lohit Devanagari' not found.\n",
      "findfont: Font family 'Lohit Devanagari' not found.\n",
      "findfont: Font family 'Lohit Devanagari' not found.\n",
      "findfont: Font family 'Lohit Devanagari' not found.\n",
      "findfont: Font family 'Lohit Devanagari' not found.\n",
      "findfont: Font family 'Lohit Devanagari' not found.\n",
      "findfont: Font family 'Lohit Devanagari' not found.\n",
      "findfont: Font family 'Lohit Devanagari' not found.\n",
      "findfont: Font family 'Lohit Devanagari' not found.\n",
      "findfont: Font family 'Lohit Devanagari' not found.\n",
      "findfont: Font family 'Lohit Devanagari' not found.\n",
      "findfont: Font family 'Lohit Devanagari' not found.\n",
      "findfont: Font family 'Lohit Devanagari' not found.\n",
      "findfont: Font family 'Lohit Devanagari' not found.\n",
      "findfont: Font family 'Lohit Devanagari' not found.\n",
      "findfont: Font family 'Lohit Devanagari' not found.\n",
      "findfont: Font family 'Lohit Devanagari' not found.\n",
      "findfont: Font family 'Lohit Devanagari' not found.\n",
      "findfont: Font family 'Lohit Devanagari' not found.\n",
      "findfont: Font family 'Lohit Devanagari' not found.\n",
      "findfont: Font family 'Lohit Devanagari' not found.\n",
      "findfont: Font family 'Lohit Devanagari' not found.\n",
      "findfont: Font family 'Lohit Devanagari' not found.\n",
      "findfont: Font family 'Lohit Devanagari' not found.\n",
      "findfont: Font family 'Lohit Devanagari' not found.\n",
      "findfont: Font family 'Lohit Devanagari' not found.\n",
      "findfont: Font family 'Lohit Devanagari' not found.\n",
      "findfont: Font family 'Lohit Devanagari' not found.\n",
      "findfont: Font family 'Lohit Devanagari' not found.\n",
      "findfont: Font family 'Lohit Devanagari' not found.\n",
      "findfont: Font family 'Lohit Devanagari' not found.\n",
      "findfont: Font family 'Lohit Devanagari' not found.\n",
      "findfont: Font family 'Lohit Devanagari' not found.\n",
      "findfont: Font family 'Lohit Devanagari' not found.\n",
      "findfont: Font family 'Lohit Devanagari' not found.\n",
      "findfont: Font family 'Lohit Devanagari' not found.\n",
      "findfont: Font family 'Lohit Devanagari' not found.\n",
      "findfont: Font family 'Lohit Devanagari' not found.\n",
      "findfont: Font family 'Lohit Devanagari' not found.\n",
      "findfont: Font family 'Lohit Devanagari' not found.\n",
      "findfont: Font family 'Lohit Devanagari' not found.\n",
      "findfont: Font family 'Lohit Devanagari' not found.\n",
      "findfont: Font family 'Lohit Devanagari' not found.\n",
      "findfont: Font family 'Lohit Devanagari' not found.\n",
      "findfont: Font family 'Lohit Devanagari' not found.\n",
      "findfont: Font family 'Lohit Devanagari' not found.\n",
      "findfont: Font family 'Lohit Devanagari' not found.\n",
      "findfont: Font family 'Lohit Devanagari' not found.\n",
      "findfont: Font family 'Lohit Devanagari' not found.\n",
      "findfont: Font family 'Lohit Devanagari' not found.\n",
      "findfont: Font family 'Lohit Devanagari' not found.\n",
      "findfont: Font family 'Lohit Devanagari' not found.\n",
      "findfont: Font family 'Lohit Devanagari' not found.\n",
      "findfont: Font family 'Lohit Devanagari' not found.\n",
      "findfont: Font family 'Lohit Devanagari' not found.\n",
      "findfont: Font family 'Lohit Devanagari' not found.\n",
      "findfont: Font family 'Lohit Devanagari' not found.\n",
      "findfont: Font family 'Lohit Devanagari' not found.\n",
      "findfont: Font family 'Lohit Devanagari' not found.\n",
      "findfont: Font family 'Lohit Devanagari' not found.\n",
      "findfont: Font family 'Lohit Devanagari' not found.\n",
      "findfont: Font family 'Lohit Devanagari' not found.\n",
      "findfont: Font family 'Lohit Devanagari' not found.\n",
      "findfont: Font family 'Lohit Devanagari' not found.\n",
      "findfont: Font family 'Lohit Devanagari' not found.\n",
      "findfont: Font family 'Lohit Devanagari' not found.\n",
      "findfont: Font family 'Lohit Devanagari' not found.\n",
      "findfont: Font family 'Lohit Devanagari' not found.\n",
      "findfont: Font family 'Lohit Devanagari' not found.\n",
      "findfont: Font family 'Lohit Devanagari' not found.\n",
      "findfont: Font family 'Lohit Devanagari' not found.\n",
      "findfont: Font family 'Lohit Devanagari' not found.\n",
      "findfont: Font family 'Lohit Devanagari' not found.\n",
      "findfont: Font family 'Lohit Devanagari' not found.\n",
      "findfont: Font family 'Lohit Devanagari' not found.\n",
      "findfont: Font family 'Lohit Devanagari' not found.\n",
      "findfont: Font family 'Lohit Devanagari' not found.\n",
      "findfont: Font family 'Lohit Devanagari' not found.\n",
      "findfont: Font family 'Lohit Devanagari' not found.\n",
      "findfont: Font family 'Lohit Devanagari' not found.\n",
      "findfont: Font family 'Lohit Devanagari' not found.\n",
      "findfont: Font family 'Lohit Devanagari' not found.\n",
      "findfont: Font family 'Lohit Devanagari' not found.\n",
      "findfont: Font family 'Lohit Devanagari' not found.\n",
      "findfont: Font family 'Lohit Devanagari' not found.\n",
      "findfont: Font family 'Lohit Devanagari' not found.\n",
      "findfont: Font family 'Lohit Devanagari' not found.\n",
      "findfont: Font family 'Lohit Devanagari' not found.\n",
      "findfont: Font family 'Lohit Devanagari' not found.\n",
      "findfont: Font family 'Lohit Devanagari' not found.\n",
      "findfont: Font family 'Lohit Devanagari' not found.\n",
      "findfont: Font family 'Lohit Devanagari' not found.\n",
      "findfont: Font family 'Lohit Devanagari' not found.\n",
      "findfont: Font family 'Lohit Devanagari' not found.\n",
      "findfont: Font family 'Lohit Devanagari' not found.\n",
      "findfont: Font family 'Lohit Devanagari' not found.\n",
      "findfont: Font family 'Lohit Devanagari' not found.\n",
      "findfont: Font family 'Lohit Devanagari' not found.\n",
      "findfont: Font family 'Lohit Devanagari' not found.\n",
      "findfont: Font family 'Lohit Devanagari' not found.\n",
      "findfont: Font family 'Lohit Devanagari' not found.\n",
      "findfont: Font family 'Lohit Devanagari' not found.\n",
      "findfont: Font family 'Lohit Devanagari' not found.\n",
      "findfont: Font family 'Lohit Devanagari' not found.\n",
      "findfont: Font family 'Lohit Devanagari' not found.\n",
      "findfont: Font family 'Lohit Devanagari' not found.\n",
      "findfont: Font family 'Lohit Devanagari' not found.\n",
      "findfont: Font family 'Lohit Devanagari' not found.\n",
      "findfont: Font family 'Lohit Devanagari' not found.\n",
      "findfont: Font family 'Lohit Devanagari' not found.\n",
      "findfont: Font family 'Lohit Devanagari' not found.\n",
      "findfont: Font family 'Lohit Devanagari' not found.\n",
      "findfont: Font family 'Lohit Devanagari' not found.\n",
      "findfont: Font family 'Lohit Devanagari' not found.\n",
      "findfont: Font family 'Lohit Devanagari' not found.\n",
      "findfont: Font family 'Lohit Devanagari' not found.\n",
      "findfont: Font family 'Lohit Devanagari' not found.\n",
      "findfont: Font family 'Lohit Devanagari' not found.\n",
      "findfont: Font family 'Lohit Devanagari' not found.\n",
      "findfont: Font family 'Lohit Devanagari' not found.\n",
      "findfont: Font family 'Lohit Devanagari' not found.\n"
     ]
    },
    {
     "name": "stderr",
     "output_type": "stream",
     "text": [
      "findfont: Font family 'Lohit Devanagari' not found.\n",
      "findfont: Font family 'Lohit Devanagari' not found.\n",
      "findfont: Font family 'Lohit Devanagari' not found.\n",
      "findfont: Font family 'Lohit Devanagari' not found.\n",
      "findfont: Font family 'Lohit Devanagari' not found.\n",
      "findfont: Font family 'Lohit Devanagari' not found.\n",
      "findfont: Font family 'Lohit Devanagari' not found.\n",
      "findfont: Font family 'Lohit Devanagari' not found.\n",
      "findfont: Font family 'Lohit Devanagari' not found.\n",
      "findfont: Font family 'Lohit Devanagari' not found.\n",
      "findfont: Font family 'Lohit Devanagari' not found.\n",
      "findfont: Font family 'Lohit Devanagari' not found.\n",
      "findfont: Font family 'Lohit Devanagari' not found.\n",
      "findfont: Font family 'Lohit Devanagari' not found.\n",
      "findfont: Font family 'Lohit Devanagari' not found.\n",
      "findfont: Font family 'Lohit Devanagari' not found.\n",
      "findfont: Font family 'Lohit Devanagari' not found.\n",
      "findfont: Font family 'Lohit Devanagari' not found.\n",
      "findfont: Font family 'Lohit Devanagari' not found.\n",
      "findfont: Font family 'Lohit Devanagari' not found.\n",
      "findfont: Font family 'Lohit Devanagari' not found.\n",
      "findfont: Font family 'Lohit Devanagari' not found.\n",
      "findfont: Font family 'Lohit Devanagari' not found.\n",
      "findfont: Font family 'Lohit Devanagari' not found.\n",
      "findfont: Font family 'Lohit Devanagari' not found.\n",
      "findfont: Font family 'Lohit Devanagari' not found.\n",
      "findfont: Font family 'Lohit Devanagari' not found.\n",
      "findfont: Font family 'Lohit Devanagari' not found.\n",
      "findfont: Font family 'Lohit Devanagari' not found.\n",
      "findfont: Font family 'Lohit Devanagari' not found.\n",
      "findfont: Font family 'Lohit Devanagari' not found.\n",
      "findfont: Font family 'Lohit Devanagari' not found.\n",
      "findfont: Font family 'Lohit Devanagari' not found.\n",
      "findfont: Font family 'Lohit Devanagari' not found.\n",
      "findfont: Font family 'Lohit Devanagari' not found.\n",
      "findfont: Font family 'Lohit Devanagari' not found.\n",
      "findfont: Font family 'Lohit Devanagari' not found.\n",
      "findfont: Font family 'Lohit Devanagari' not found.\n",
      "findfont: Font family 'Lohit Devanagari' not found.\n",
      "findfont: Font family 'Lohit Devanagari' not found.\n",
      "findfont: Font family 'Lohit Devanagari' not found.\n",
      "findfont: Font family 'Lohit Devanagari' not found.\n",
      "findfont: Font family 'Lohit Devanagari' not found.\n",
      "findfont: Font family 'Lohit Devanagari' not found.\n",
      "findfont: Font family 'Lohit Devanagari' not found.\n",
      "findfont: Font family 'Lohit Devanagari' not found.\n",
      "findfont: Font family 'Lohit Devanagari' not found.\n",
      "findfont: Font family 'Lohit Devanagari' not found.\n",
      "findfont: Font family 'Lohit Devanagari' not found.\n",
      "findfont: Font family 'Lohit Devanagari' not found.\n",
      "findfont: Font family 'Lohit Devanagari' not found.\n",
      "findfont: Font family 'Lohit Devanagari' not found.\n",
      "findfont: Font family 'Lohit Devanagari' not found.\n",
      "findfont: Font family 'Lohit Devanagari' not found.\n"
     ]
    },
    {
     "data": {
      "image/png": "[encoded data removed]",
      "text/plain": [
       "<Figure size 2000x1000 with 2 Axes>"
      ]
     },
     "metadata": {},
     "output_type": "display_data"
    }
   ],
   "source": [
    "#used to measure the performance of a classifier in depth(i.e Decision Tree). \n",
    "cm = metrics.confusion_matrix(y_test, model_pred3)\n",
    "plot_confusion_matrix(cm, classes=uni)"
   ]
  },
  {
   "cell_type": "markdown",
   "metadata": {
    "id": "-ToWaSZTN5Ks"
   },
   "source": [
    "# Applying Support Vector Machine Classifier"
   ]
  },
  {
   "cell_type": "code",
   "execution_count": 41,
   "metadata": {
    "id": "noIyJofAN5Kw"
   },
   "outputs": [
    {
     "name": "stdout",
     "output_type": "stream",
     "text": [
      "Accuracy: 78.4%\n",
      "              precision    recall  f1-score   support\n",
      "\n",
      "        ስፖርት       0.85      0.72      0.78      4136\n",
      "  ሀገር አቀፍ ዜና       0.64      0.79      0.71       148\n",
      "        ፖለቲካ       0.98      0.97      0.97      2125\n",
      "        ቢዝነስ       0.52      0.72      0.61       770\n",
      "  ዓለም አቀፍ ዜና       0.73      0.83      0.78      1260\n",
      "        መዝናኛ       0.66      0.72      0.69      1830\n",
      "\n",
      "    accuracy                           0.78     10269\n",
      "   macro avg       0.73      0.79      0.75     10269\n",
      "weighted avg       0.80      0.78      0.79     10269\n",
      "\n"
     ]
    }
   ],
   "source": [
    "from sklearn import model_selection, svm\n",
    "SVM = svm.SVC(kernel='linear')\n",
    "SVM.fit(xBalanced,yBalanced)\n",
    "model_pred4 = SVM.predict(X_test)\n",
    "print(\"Accuracy: {}%\".format(round(accuracy_score(y_test, model_pred4)*100,2)))\n",
    "print(classification_report(y_test, model_pred4,target_names=uni))"
   ]
  },
  {
   "cell_type": "code",
   "execution_count": 42,
   "metadata": {
    "id": "2T6GqYvJN5Ky"
   },
   "outputs": [
    {
     "name": "stderr",
     "output_type": "stream",
     "text": [
      "findfont: Font family 'Lohit Devanagari' not found.\n",
      "findfont: Font family 'Lohit Devanagari' not found.\n",
      "findfont: Font family 'Lohit Devanagari' not found.\n",
      "findfont: Font family 'Lohit Devanagari' not found.\n",
      "findfont: Font family 'Lohit Devanagari' not found.\n",
      "findfont: Font family 'Lohit Devanagari' not found.\n",
      "findfont: Font family 'Lohit Devanagari' not found.\n",
      "findfont: Font family 'Lohit Devanagari' not found.\n",
      "findfont: Font family 'Lohit Devanagari' not found.\n",
      "findfont: Font family 'Lohit Devanagari' not found.\n",
      "findfont: Font family 'Lohit Devanagari' not found.\n",
      "findfont: Font family 'Lohit Devanagari' not found.\n",
      "findfont: Font family 'Lohit Devanagari' not found.\n",
      "findfont: Font family 'Lohit Devanagari' not found.\n",
      "findfont: Font family 'Lohit Devanagari' not found.\n",
      "findfont: Font family 'Lohit Devanagari' not found.\n",
      "findfont: Font family 'Lohit Devanagari' not found.\n",
      "findfont: Font family 'Lohit Devanagari' not found.\n",
      "findfont: Font family 'Lohit Devanagari' not found.\n",
      "findfont: Font family 'Lohit Devanagari' not found.\n",
      "findfont: Font family 'Lohit Devanagari' not found.\n",
      "findfont: Font family 'Lohit Devanagari' not found.\n",
      "findfont: Font family 'Lohit Devanagari' not found.\n",
      "findfont: Font family 'Lohit Devanagari' not found.\n",
      "findfont: Font family 'Lohit Devanagari' not found.\n",
      "findfont: Font family 'Lohit Devanagari' not found.\n",
      "findfont: Font family 'Lohit Devanagari' not found.\n",
      "findfont: Font family 'Lohit Devanagari' not found.\n",
      "findfont: Font family 'Lohit Devanagari' not found.\n",
      "findfont: Font family 'Lohit Devanagari' not found.\n",
      "findfont: Font family 'Lohit Devanagari' not found.\n",
      "findfont: Font family 'Lohit Devanagari' not found.\n",
      "findfont: Font family 'Lohit Devanagari' not found.\n",
      "findfont: Font family 'Lohit Devanagari' not found.\n",
      "findfont: Font family 'Lohit Devanagari' not found.\n",
      "findfont: Font family 'Lohit Devanagari' not found.\n",
      "findfont: Font family 'Lohit Devanagari' not found.\n",
      "findfont: Font family 'Lohit Devanagari' not found.\n",
      "findfont: Font family 'Lohit Devanagari' not found.\n",
      "findfont: Font family 'Lohit Devanagari' not found.\n",
      "findfont: Font family 'Lohit Devanagari' not found.\n",
      "findfont: Font family 'Lohit Devanagari' not found.\n",
      "findfont: Font family 'Lohit Devanagari' not found.\n",
      "findfont: Font family 'Lohit Devanagari' not found.\n",
      "findfont: Font family 'Lohit Devanagari' not found.\n",
      "findfont: Font family 'Lohit Devanagari' not found.\n",
      "findfont: Font family 'Lohit Devanagari' not found.\n",
      "findfont: Font family 'Lohit Devanagari' not found.\n",
      "findfont: Font family 'Lohit Devanagari' not found.\n",
      "findfont: Font family 'Lohit Devanagari' not found.\n",
      "findfont: Font family 'Lohit Devanagari' not found.\n",
      "findfont: Font family 'Lohit Devanagari' not found.\n",
      "findfont: Font family 'Lohit Devanagari' not found.\n",
      "findfont: Font family 'Lohit Devanagari' not found.\n",
      "findfont: Font family 'Lohit Devanagari' not found.\n",
      "findfont: Font family 'Lohit Devanagari' not found.\n",
      "findfont: Font family 'Lohit Devanagari' not found.\n",
      "findfont: Font family 'Lohit Devanagari' not found.\n",
      "findfont: Font family 'Lohit Devanagari' not found.\n",
      "findfont: Font family 'Lohit Devanagari' not found.\n",
      "findfont: Font family 'Lohit Devanagari' not found.\n",
      "findfont: Font family 'Lohit Devanagari' not found.\n",
      "findfont: Font family 'Lohit Devanagari' not found.\n",
      "findfont: Font family 'Lohit Devanagari' not found.\n",
      "findfont: Font family 'Lohit Devanagari' not found.\n",
      "findfont: Font family 'Lohit Devanagari' not found.\n",
      "findfont: Font family 'Lohit Devanagari' not found.\n",
      "findfont: Font family 'Lohit Devanagari' not found.\n",
      "findfont: Font family 'Lohit Devanagari' not found.\n",
      "findfont: Font family 'Lohit Devanagari' not found.\n",
      "findfont: Font family 'Lohit Devanagari' not found.\n",
      "findfont: Font family 'Lohit Devanagari' not found.\n",
      "findfont: Font family 'Lohit Devanagari' not found.\n",
      "findfont: Font family 'Lohit Devanagari' not found.\n",
      "findfont: Font family 'Lohit Devanagari' not found.\n",
      "findfont: Font family 'Lohit Devanagari' not found.\n",
      "findfont: Font family 'Lohit Devanagari' not found.\n",
      "findfont: Font family 'Lohit Devanagari' not found.\n",
      "findfont: Font family 'Lohit Devanagari' not found.\n",
      "findfont: Font family 'Lohit Devanagari' not found.\n",
      "findfont: Font family 'Lohit Devanagari' not found.\n",
      "findfont: Font family 'Lohit Devanagari' not found.\n",
      "findfont: Font family 'Lohit Devanagari' not found.\n",
      "findfont: Font family 'Lohit Devanagari' not found.\n",
      "findfont: Font family 'Lohit Devanagari' not found.\n",
      "findfont: Font family 'Lohit Devanagari' not found.\n",
      "findfont: Font family 'Lohit Devanagari' not found.\n",
      "findfont: Font family 'Lohit Devanagari' not found.\n",
      "findfont: Font family 'Lohit Devanagari' not found.\n",
      "findfont: Font family 'Lohit Devanagari' not found.\n",
      "findfont: Font family 'Lohit Devanagari' not found.\n",
      "findfont: Font family 'Lohit Devanagari' not found.\n",
      "findfont: Font family 'Lohit Devanagari' not found.\n",
      "findfont: Font family 'Lohit Devanagari' not found.\n",
      "findfont: Font family 'Lohit Devanagari' not found.\n",
      "findfont: Font family 'Lohit Devanagari' not found.\n",
      "findfont: Font family 'Lohit Devanagari' not found.\n",
      "findfont: Font family 'Lohit Devanagari' not found.\n",
      "findfont: Font family 'Lohit Devanagari' not found.\n",
      "findfont: Font family 'Lohit Devanagari' not found.\n",
      "findfont: Font family 'Lohit Devanagari' not found.\n",
      "findfont: Font family 'Lohit Devanagari' not found.\n",
      "findfont: Font family 'Lohit Devanagari' not found.\n",
      "findfont: Font family 'Lohit Devanagari' not found.\n",
      "findfont: Font family 'Lohit Devanagari' not found.\n",
      "findfont: Font family 'Lohit Devanagari' not found.\n",
      "findfont: Font family 'Lohit Devanagari' not found.\n",
      "findfont: Font family 'Lohit Devanagari' not found.\n",
      "findfont: Font family 'Lohit Devanagari' not found.\n",
      "findfont: Font family 'Lohit Devanagari' not found.\n",
      "findfont: Font family 'Lohit Devanagari' not found.\n",
      "findfont: Font family 'Lohit Devanagari' not found.\n",
      "findfont: Font family 'Lohit Devanagari' not found.\n",
      "findfont: Font family 'Lohit Devanagari' not found.\n",
      "findfont: Font family 'Lohit Devanagari' not found.\n",
      "findfont: Font family 'Lohit Devanagari' not found.\n",
      "findfont: Font family 'Lohit Devanagari' not found.\n",
      "findfont: Font family 'Lohit Devanagari' not found.\n",
      "findfont: Font family 'Lohit Devanagari' not found.\n",
      "findfont: Font family 'Lohit Devanagari' not found.\n",
      "findfont: Font family 'Lohit Devanagari' not found.\n",
      "findfont: Font family 'Lohit Devanagari' not found.\n",
      "findfont: Font family 'Lohit Devanagari' not found.\n",
      "findfont: Font family 'Lohit Devanagari' not found.\n",
      "findfont: Font family 'Lohit Devanagari' not found.\n",
      "findfont: Font family 'Lohit Devanagari' not found.\n",
      "findfont: Font family 'Lohit Devanagari' not found.\n",
      "findfont: Font family 'Lohit Devanagari' not found.\n",
      "findfont: Font family 'Lohit Devanagari' not found.\n",
      "findfont: Font family 'Lohit Devanagari' not found.\n",
      "findfont: Font family 'Lohit Devanagari' not found.\n",
      "findfont: Font family 'Lohit Devanagari' not found.\n",
      "findfont: Font family 'Lohit Devanagari' not found.\n",
      "findfont: Font family 'Lohit Devanagari' not found.\n",
      "findfont: Font family 'Lohit Devanagari' not found.\n",
      "findfont: Font family 'Lohit Devanagari' not found.\n",
      "findfont: Font family 'Lohit Devanagari' not found.\n",
      "findfont: Font family 'Lohit Devanagari' not found.\n",
      "findfont: Font family 'Lohit Devanagari' not found.\n",
      "findfont: Font family 'Lohit Devanagari' not found.\n",
      "findfont: Font family 'Lohit Devanagari' not found.\n",
      "findfont: Font family 'Lohit Devanagari' not found.\n",
      "findfont: Font family 'Lohit Devanagari' not found.\n",
      "findfont: Font family 'Lohit Devanagari' not found.\n",
      "findfont: Font family 'Lohit Devanagari' not found.\n",
      "findfont: Font family 'Lohit Devanagari' not found.\n",
      "findfont: Font family 'Lohit Devanagari' not found.\n",
      "findfont: Font family 'Lohit Devanagari' not found.\n",
      "findfont: Font family 'Lohit Devanagari' not found.\n",
      "findfont: Font family 'Lohit Devanagari' not found.\n",
      "findfont: Font family 'Lohit Devanagari' not found.\n",
      "findfont: Font family 'Lohit Devanagari' not found.\n",
      "findfont: Font family 'Lohit Devanagari' not found.\n",
      "findfont: Font family 'Lohit Devanagari' not found.\n",
      "findfont: Font family 'Lohit Devanagari' not found.\n",
      "findfont: Font family 'Lohit Devanagari' not found.\n",
      "findfont: Font family 'Lohit Devanagari' not found.\n",
      "findfont: Font family 'Lohit Devanagari' not found.\n"
     ]
    },
    {
     "name": "stderr",
     "output_type": "stream",
     "text": [
      "findfont: Font family 'Lohit Devanagari' not found.\n",
      "findfont: Font family 'Lohit Devanagari' not found.\n",
      "findfont: Font family 'Lohit Devanagari' not found.\n",
      "findfont: Font family 'Lohit Devanagari' not found.\n",
      "findfont: Font family 'Lohit Devanagari' not found.\n",
      "findfont: Font family 'Lohit Devanagari' not found.\n",
      "findfont: Font family 'Lohit Devanagari' not found.\n",
      "findfont: Font family 'Lohit Devanagari' not found.\n",
      "findfont: Font family 'Lohit Devanagari' not found.\n",
      "findfont: Font family 'Lohit Devanagari' not found.\n",
      "findfont: Font family 'Lohit Devanagari' not found.\n",
      "findfont: Font family 'Lohit Devanagari' not found.\n",
      "findfont: Font family 'Lohit Devanagari' not found.\n",
      "findfont: Font family 'Lohit Devanagari' not found.\n",
      "findfont: Font family 'Lohit Devanagari' not found.\n",
      "findfont: Font family 'Lohit Devanagari' not found.\n",
      "findfont: Font family 'Lohit Devanagari' not found.\n",
      "findfont: Font family 'Lohit Devanagari' not found.\n",
      "findfont: Font family 'Lohit Devanagari' not found.\n",
      "findfont: Font family 'Lohit Devanagari' not found.\n",
      "findfont: Font family 'Lohit Devanagari' not found.\n",
      "findfont: Font family 'Lohit Devanagari' not found.\n",
      "findfont: Font family 'Lohit Devanagari' not found.\n",
      "findfont: Font family 'Lohit Devanagari' not found.\n",
      "findfont: Font family 'Lohit Devanagari' not found.\n",
      "findfont: Font family 'Lohit Devanagari' not found.\n",
      "findfont: Font family 'Lohit Devanagari' not found.\n",
      "findfont: Font family 'Lohit Devanagari' not found.\n",
      "findfont: Font family 'Lohit Devanagari' not found.\n",
      "findfont: Font family 'Lohit Devanagari' not found.\n",
      "findfont: Font family 'Lohit Devanagari' not found.\n",
      "findfont: Font family 'Lohit Devanagari' not found.\n",
      "findfont: Font family 'Lohit Devanagari' not found.\n",
      "findfont: Font family 'Lohit Devanagari' not found.\n",
      "findfont: Font family 'Lohit Devanagari' not found.\n",
      "findfont: Font family 'Lohit Devanagari' not found.\n",
      "findfont: Font family 'Lohit Devanagari' not found.\n",
      "findfont: Font family 'Lohit Devanagari' not found.\n",
      "findfont: Font family 'Lohit Devanagari' not found.\n",
      "findfont: Font family 'Lohit Devanagari' not found.\n",
      "findfont: Font family 'Lohit Devanagari' not found.\n",
      "findfont: Font family 'Lohit Devanagari' not found.\n",
      "findfont: Font family 'Lohit Devanagari' not found.\n",
      "findfont: Font family 'Lohit Devanagari' not found.\n",
      "findfont: Font family 'Lohit Devanagari' not found.\n",
      "findfont: Font family 'Lohit Devanagari' not found.\n",
      "findfont: Font family 'Lohit Devanagari' not found.\n",
      "findfont: Font family 'Lohit Devanagari' not found.\n",
      "findfont: Font family 'Lohit Devanagari' not found.\n",
      "findfont: Font family 'Lohit Devanagari' not found.\n",
      "findfont: Font family 'Lohit Devanagari' not found.\n",
      "findfont: Font family 'Lohit Devanagari' not found.\n"
     ]
    },
    {
     "data": {
      "image/png": "[encoded data removed]",
      "text/plain": [
       "<Figure size 2000x1000 with 2 Axes>"
      ]
     },
     "metadata": {},
     "output_type": "display_data"
    }
   ],
   "source": [
    "# used to measure the performance of a classifier in depth(i.e Support Vector Machine).\n",
    "cm = metrics.confusion_matrix(y_test, model_pred4)\n",
    "plot_confusion_matrix(cm, classes=uni)"
   ]
  }
 ],
 "metadata": {
  "colab": {
   "provenance": []
  },
  "kernelspec": {
   "display_name": "Python 3 (ipykernel)",
   "language": "python",
   "name": "python3"
  },
  "language_info": {
   "codemirror_mode": {
    "name": "ipython",
    "version": 3
   },
   "file_extension": ".py",
   "mimetype": "text/x-python",
   "name": "python",
   "nbconvert_exporter": "python",
   "pygments_lexer": "ipython3",
   "version": "3.11.3"
  }
 },
 "nbformat": 4,
 "nbformat_minor": 1
}
